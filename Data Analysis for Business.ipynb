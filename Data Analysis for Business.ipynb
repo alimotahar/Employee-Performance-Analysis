{
 "cells": [
  {
   "cell_type": "markdown",
   "id": "415e62b6",
   "metadata": {},
   "source": [
    "# Data Analysis for Business"
   ]
  },
  {
   "cell_type": "markdown",
   "id": "bb569dcd",
   "metadata": {},
   "source": [
    "## Table of Contents\n",
    "1. [Introduction](#1.-Introduction)\n",
    "*******\n",
    "\n",
    "\n",
    "2. [Methods](#2.-Methods)\n",
    "\n",
    "      2.1 [Regression Model.](#2.1-Regression-Model.)   \n",
    "      2.2 [Classification Model.](#2.2-Classification-Model.)   \n",
    "      2.3 [Added Value.](#2.3-Added-Value.)\n",
    "   \n",
    "************   \n",
    "3. [Background](#3.-Background)\n",
    "*************\n",
    " \n",
    " \n",
    "4. [Exploration of Data](#4.Exploration-of-Data)\n",
    "************\n",
    "   \n",
    "   \n",
    "5. [Data Cleaning](#5.Data-Cleaning)\n",
    "*************\n",
    "\n",
    "\n",
    "6. [Statistics Descriptiong](#6.Statistics-Description)\n",
    "\n",
    "      6.1 [Dataset Distributions and Detecting Outliers](#6.1-Dataset-Distributions-and-Detecting-Outliers)      \n",
    "      6.2 [Removing the Outliers](#6.2-Removing-the-Outliers)      \n",
    "      6.3 [Correlation Matrix](#6.3-Correlation-Matrix)\n",
    "      \n",
    "***********      \n",
    "7. [Regression Model](#7.Regression-Model)\n",
    "   \n",
    "      7.1 [First Stage](#7.1-First-Stage)      \n",
    "      7.2 [Scond Stage](#7.2-Scond-Stage)     \n",
    "      7.3 [Third Stage](#7.3-Third-Stage)      \n",
    "      7.4 [Conclusion for the Regression Model](#7.4-Conclusion-for-the-Regression-Model:)\n",
    "      \n",
    "************      \n",
    "8. [Classification Model](#8.Classification-Model.)   \n",
    "\n",
    "   8.1 [Bayesian Classification](#8.1-Bayesian-Classification)    \n",
    "      8.1.1 [Data Cleaning](#8.1.1-Data-Cleaning:)   \n",
    "      8.1.2 [Data Preprocessing](#8.1.2-Data-Preprocessing:)  \n",
    "      8.1.3 [Bayesian Prediction](#8.1.3-Bayesian-Prediction:)  \n",
    "      8.1.4 [Interpretation of Bayesian prediction results](#8.1.4-Interpretation-of-Bayesian-prediction-results:)  \n",
    "                   \n",
    "   8.2 [Confusion Matrix](#8.2-Confusion-Matrix)      \n",
    "      8.2.1 [Interpretation of Confusion Matrix Results](#8.2.1-Interpretation-of-Confusion-Matrix-Results:) \n",
    "\n",
    "**********\n",
    "9. [Comparison Algorithm:](#9.-Comparison-Algorithm:)\n",
    "\n",
    "   9.1 [Conclusion for Classification Model](#9.1-Conclusion-for-Classification-Model:) \n",
    "\n",
    "**********\n",
    "10. [Conclusion](#10.Conclusion)\n",
    "\n",
    "*********\n",
    "11. [Reference](#11.Reference)\n",
    "\n",
    "\n",
    "***********"
   ]
  },
  {
   "cell_type": "markdown",
   "id": "7fd85573",
   "metadata": {},
   "source": [
    "### My dataset can be found here:\n",
    "https://www.kaggle.com/datasets/rhuebner/human-resources-data-set\n",
    "************"
   ]
  },
  {
   "cell_type": "markdown",
   "id": "c36ad59a",
   "metadata": {},
   "source": [
    "# 1. Introduction"
   ]
  },
  {
   "cell_type": "markdown",
   "id": "cb3e8c43",
   "metadata": {},
   "source": [
    "Organizations have access to an incredible amount of data, which is a valuable tool. It has the capacity to influence decision-making, design strategies, and enhance organizational performance when properly leveraged.The technique of evaluating data to answer questions, detect trends, and extract insights is known as data analytics. When data analytics is utilized in business, it is commonly referred to as business analytics (Catherine, 2021).\n",
    "* **4 ESSENTIAL DATA ANALYSIS TYPES**\n",
    "\n",
    "**1- Descriptive Analytics:** It enables you to quickly summarize what occurred or is happening by drawing trends from the raw data.\n",
    "\n",
    "**2- Diagnostic Analytics:** The subsequent logical inquiry, \"Why did this happen?\" is answered by diagnostic analytics.\n",
    "\n",
    "**3- Predictive Analytics:** In order to anticipate future trends or occurrences or to provide a response to the question \"What could happen in the future?\".\n",
    "\n",
    "**4- Prescriptive Analytics:** finally provides a response to the query, \"What should we do next?\"\n",
    "\n",
    "The aim of this project is to create a *regression* model employing *Diagnostic Analytics* approaches based on the data analysis category. In addition, we aim to create a *Bayesian classification* model that can be used for both *diagnostic and predictive analytics*. Based on the specified parameters, this model will examine trends and features influencing employees likely to quit.\n",
    "*********************** \n",
    "\n",
    "\n",
    "\n"
   ]
  },
  {
   "cell_type": "markdown",
   "id": "3c774cae",
   "metadata": {},
   "source": [
    "# 2. Methods"
   ]
  },
  {
   "cell_type": "markdown",
   "id": "2f7be8a4",
   "metadata": {},
   "source": [
    "###  - What business decision do you want to support with this solution, and how do you expect your answer to add value?"
   ]
  },
  {
   "cell_type": "markdown",
   "id": "e4597c0b",
   "metadata": {},
   "source": [
    " The HR data set offers useful insights about a company's personnel, including personal and employment information as well as performance indicators. This data analysis project's primary goal is to assist a business decision via the development of two models that can predict employee performance ratings and the possibility of termination. Regression and Cluster Algorithm techniques have been used to accomplish the purpose.   "
   ]
  },
  {
   "cell_type": "markdown",
   "id": "0a942bc0",
   "metadata": {},
   "source": [
    "## 2.1 Regression Model."
   ]
  },
  {
   "cell_type": "markdown",
   "id": "b9c35ef2",
   "metadata": {},
   "source": [
    "The relationship between the dependent variable **(performance score)** and a number of independent variables **(salary, department, engagement survey results, absences, employee satisfaction, and days late to work in the previous 30 days)** has been modeled using the regression model, specifically the Ordinary Least Squares (OLS) method."
   ]
  },
  {
   "cell_type": "markdown",
   "id": "2df75ddf",
   "metadata": {},
   "source": [
    "## 2.2 Classification Model."
   ]
  },
  {
   "cell_type": "markdown",
   "id": "9f61d7fc",
   "metadata": {},
   "source": [
    "In the meanwhile, the Bayesian classification model has been used to assess trends and characteristics that may affect an employee's **likelihood to quit** the organization. The model's predictors include **engagement survey results, employee satisfaction, days late to work in the last 30 days, and absenteeism**."
   ]
  },
  {
   "cell_type": "markdown",
   "id": "43f8854c",
   "metadata": {},
   "source": [
    "## 2.3 Added Value."
   ]
  },
  {
   "cell_type": "markdown",
   "id": "8b94e0ad",
   "metadata": {},
   "source": [
    "The study intends to provide insight into the variables that affect employee performance and to suggest prospective measures to mitigate it. The research attempts to assist the business in making data-driven decisions to enhance employee retention, lower recruiting costs, and eventually raise overall organizational performance by identifying variables that have an influence on employee termination.\n",
    "***********"
   ]
  },
  {
   "cell_type": "markdown",
   "id": "6ec2ed59",
   "metadata": {},
   "source": [
    "# 3. Background"
   ]
  },
  {
   "cell_type": "markdown",
   "id": "0cc79eed",
   "metadata": {},
   "source": [
    "### - Why did you choose this as your preferred data-driven decision-making problem? "
   ]
  },
  {
   "cell_type": "markdown",
   "id": "ea7fc3cb",
   "metadata": {},
   "source": [
    "As someone with a background in human resources, I understand the vital role that employee performance plays in an organization's success. As a result, I selected this HR data set as my favourite data-driven decision-making challenge. I can uncover elements that lead to great employee performance and give insights to assist the organization make intelligent decisions that promote employee retention and customer satisfaction by evaluating the data. The data collection gives a complete view of employee information, including personal information, job details, and performance measures, allowing me to investigate numerous aspects that impact the performance of employees. The use of data-driven decision-making processes in HR could potentially increase employee performance and, as a result, the company's productivity and profit.\n",
    "************\n"
   ]
  },
  {
   "cell_type": "markdown",
   "id": "d84f6397",
   "metadata": {},
   "source": [
    "# 4.Exploration of Data"
   ]
  },
  {
   "cell_type": "markdown",
   "id": "f067adf0",
   "metadata": {},
   "source": [
    "<h3>Import packages:"
   ]
  },
  {
   "cell_type": "markdown",
   "id": "d3fc6475",
   "metadata": {},
   "source": [
    "These packages will provide a solid foundation for data manipulation, analysis, and visualization."
   ]
  },
  {
   "cell_type": "code",
   "execution_count": 2,
   "id": "2cb795df",
   "metadata": {},
   "outputs": [],
   "source": [
    "import pandas as pd\n",
    "import numpy as np\n",
    "import statsmodels.api as sm\n",
    "import seaborn as sns\n",
    "import matplotlib.pyplot as plt"
   ]
  },
  {
   "cell_type": "markdown",
   "id": "d1532542",
   "metadata": {},
   "source": [
    "I've imported the HR dataset from the \"HRDataset.csv\" file using this line of code and saved it as a pandas DataFrame object named \"HR_data_set\" in my notebook. Using this DataFrame object, I can now begin exploring the data and carrying out my data analysis tasks."
   ]
  },
  {
   "cell_type": "code",
   "execution_count": 3,
   "id": "79b5414d",
   "metadata": {
    "scrolled": true
   },
   "outputs": [],
   "source": [
    "HR_data_set=pd.read_csv('HRDataset.csv')\n"
   ]
  },
  {
   "cell_type": "markdown",
   "id": "532b681d",
   "metadata": {},
   "source": [
    "the first five rows of the HR_data_set data frame, which offer a brief summary of the dataset. This function aids in determining whether or not the dataset was successfully loaded, as well as providing an indication of how the dataset appears."
   ]
  },
  {
   "cell_type": "code",
   "execution_count": 4,
   "id": "c99b6317",
   "metadata": {},
   "outputs": [
    {
     "data": {
      "text/html": [
       "<div>\n",
       "<style scoped>\n",
       "    .dataframe tbody tr th:only-of-type {\n",
       "        vertical-align: middle;\n",
       "    }\n",
       "\n",
       "    .dataframe tbody tr th {\n",
       "        vertical-align: top;\n",
       "    }\n",
       "\n",
       "    .dataframe thead th {\n",
       "        text-align: right;\n",
       "    }\n",
       "</style>\n",
       "<table border=\"1\" class=\"dataframe\">\n",
       "  <thead>\n",
       "    <tr style=\"text-align: right;\">\n",
       "      <th></th>\n",
       "      <th>Employee_Name</th>\n",
       "      <th>EmpID</th>\n",
       "      <th>MaritalDesc</th>\n",
       "      <th>Sex</th>\n",
       "      <th>EmploymentStatus</th>\n",
       "      <th>Department</th>\n",
       "      <th>Position</th>\n",
       "      <th>DateofHire</th>\n",
       "      <th>PerformanceScore</th>\n",
       "      <th>Salary</th>\n",
       "      <th>...</th>\n",
       "      <th>TermReason</th>\n",
       "      <th>ManagerName</th>\n",
       "      <th>RecruitmentSource</th>\n",
       "      <th>EngagementSurvey</th>\n",
       "      <th>EmpSatisfaction</th>\n",
       "      <th>SpecialProjectsCount</th>\n",
       "      <th>LastPerformanceReview_Date</th>\n",
       "      <th>DaysLateLast30</th>\n",
       "      <th>Absences</th>\n",
       "      <th>Termination</th>\n",
       "    </tr>\n",
       "  </thead>\n",
       "  <tbody>\n",
       "    <tr>\n",
       "      <th>0</th>\n",
       "      <td>King, Janet</td>\n",
       "      <td>10089</td>\n",
       "      <td>Married</td>\n",
       "      <td>F</td>\n",
       "      <td>Active</td>\n",
       "      <td>Executive Office</td>\n",
       "      <td>President &amp; CEO</td>\n",
       "      <td>7/2/2012</td>\n",
       "      <td>Fully Meets</td>\n",
       "      <td>250000</td>\n",
       "      <td>...</td>\n",
       "      <td>N/A-StillEmployed</td>\n",
       "      <td>Board of Directors</td>\n",
       "      <td>Indeed</td>\n",
       "      <td>4.83</td>\n",
       "      <td>3</td>\n",
       "      <td>0</td>\n",
       "      <td>1/17/2019</td>\n",
       "      <td>0</td>\n",
       "      <td>10</td>\n",
       "      <td>0</td>\n",
       "    </tr>\n",
       "    <tr>\n",
       "      <th>1</th>\n",
       "      <td>Zamora, Jennifer</td>\n",
       "      <td>10010</td>\n",
       "      <td>Single</td>\n",
       "      <td>F</td>\n",
       "      <td>Active</td>\n",
       "      <td>IT/IS</td>\n",
       "      <td>CIO</td>\n",
       "      <td>4/10/2010</td>\n",
       "      <td>Exceeds</td>\n",
       "      <td>220450</td>\n",
       "      <td>...</td>\n",
       "      <td>N/A-StillEmployed</td>\n",
       "      <td>Janet King</td>\n",
       "      <td>Employee Referral</td>\n",
       "      <td>4.60</td>\n",
       "      <td>5</td>\n",
       "      <td>6</td>\n",
       "      <td>2/21/2019</td>\n",
       "      <td>0</td>\n",
       "      <td>16</td>\n",
       "      <td>0</td>\n",
       "    </tr>\n",
       "    <tr>\n",
       "      <th>2</th>\n",
       "      <td>Houlihan, Debra</td>\n",
       "      <td>10272</td>\n",
       "      <td>Married</td>\n",
       "      <td>F</td>\n",
       "      <td>Active</td>\n",
       "      <td>Sales</td>\n",
       "      <td>Director of Sales</td>\n",
       "      <td>5/5/2014</td>\n",
       "      <td>Fully Meets</td>\n",
       "      <td>180000</td>\n",
       "      <td>...</td>\n",
       "      <td>N/A-StillEmployed</td>\n",
       "      <td>Janet King</td>\n",
       "      <td>LinkedIn</td>\n",
       "      <td>4.50</td>\n",
       "      <td>4</td>\n",
       "      <td>0</td>\n",
       "      <td>1/21/2019</td>\n",
       "      <td>0</td>\n",
       "      <td>19</td>\n",
       "      <td>0</td>\n",
       "    </tr>\n",
       "    <tr>\n",
       "      <th>3</th>\n",
       "      <td>Foss, Jason</td>\n",
       "      <td>10015</td>\n",
       "      <td>Single</td>\n",
       "      <td>M</td>\n",
       "      <td>Active</td>\n",
       "      <td>IT/IS</td>\n",
       "      <td>IT Director</td>\n",
       "      <td>4/15/2011</td>\n",
       "      <td>Exceeds</td>\n",
       "      <td>178000</td>\n",
       "      <td>...</td>\n",
       "      <td>N/A-StillEmployed</td>\n",
       "      <td>Jennifer Zamora</td>\n",
       "      <td>Indeed</td>\n",
       "      <td>5.00</td>\n",
       "      <td>5</td>\n",
       "      <td>5</td>\n",
       "      <td>1/7/2019</td>\n",
       "      <td>0</td>\n",
       "      <td>15</td>\n",
       "      <td>0</td>\n",
       "    </tr>\n",
       "    <tr>\n",
       "      <th>4</th>\n",
       "      <td>Corleone, Vito</td>\n",
       "      <td>10019</td>\n",
       "      <td>Single</td>\n",
       "      <td>M</td>\n",
       "      <td>Active</td>\n",
       "      <td>Production</td>\n",
       "      <td>Director of Operations</td>\n",
       "      <td>1/5/2009</td>\n",
       "      <td>Exceeds</td>\n",
       "      <td>170500</td>\n",
       "      <td>...</td>\n",
       "      <td>N/A-StillEmployed</td>\n",
       "      <td>Janet King</td>\n",
       "      <td>Indeed</td>\n",
       "      <td>3.70</td>\n",
       "      <td>5</td>\n",
       "      <td>0</td>\n",
       "      <td>2/4/2019</td>\n",
       "      <td>0</td>\n",
       "      <td>15</td>\n",
       "      <td>0</td>\n",
       "    </tr>\n",
       "  </tbody>\n",
       "</table>\n",
       "<p>5 rows × 21 columns</p>\n",
       "</div>"
      ],
      "text/plain": [
       "      Employee_Name  EmpID MaritalDesc Sex EmploymentStatus  \\\n",
       "0       King, Janet  10089     Married   F           Active   \n",
       "1  Zamora, Jennifer  10010      Single   F           Active   \n",
       "2   Houlihan, Debra  10272     Married   F           Active   \n",
       "3       Foss, Jason  10015      Single  M            Active   \n",
       "4    Corleone, Vito  10019      Single  M            Active   \n",
       "\n",
       "          Department                Position DateofHire PerformanceScore  \\\n",
       "0   Executive Office         President & CEO   7/2/2012      Fully Meets   \n",
       "1              IT/IS                     CIO  4/10/2010          Exceeds   \n",
       "2              Sales       Director of Sales   5/5/2014      Fully Meets   \n",
       "3              IT/IS             IT Director  4/15/2011          Exceeds   \n",
       "4  Production         Director of Operations   1/5/2009          Exceeds   \n",
       "\n",
       "   Salary  ...         TermReason         ManagerName  RecruitmentSource  \\\n",
       "0  250000  ...  N/A-StillEmployed  Board of Directors             Indeed   \n",
       "1  220450  ...  N/A-StillEmployed          Janet King  Employee Referral   \n",
       "2  180000  ...  N/A-StillEmployed          Janet King           LinkedIn   \n",
       "3  178000  ...  N/A-StillEmployed     Jennifer Zamora             Indeed   \n",
       "4  170500  ...  N/A-StillEmployed          Janet King             Indeed   \n",
       "\n",
       "  EngagementSurvey  EmpSatisfaction  SpecialProjectsCount  \\\n",
       "0             4.83                3                     0   \n",
       "1             4.60                5                     6   \n",
       "2             4.50                4                     0   \n",
       "3             5.00                5                     5   \n",
       "4             3.70                5                     0   \n",
       "\n",
       "   LastPerformanceReview_Date DaysLateLast30  Absences  Termination  \n",
       "0                   1/17/2019              0        10            0  \n",
       "1                   2/21/2019              0        16            0  \n",
       "2                   1/21/2019              0        19            0  \n",
       "3                    1/7/2019              0        15            0  \n",
       "4                    2/4/2019              0        15            0  \n",
       "\n",
       "[5 rows x 21 columns]"
      ]
     },
     "execution_count": 4,
     "metadata": {},
     "output_type": "execute_result"
    }
   ],
   "source": [
    "HR_data_set.head()"
   ]
  },
  {
   "cell_type": "markdown",
   "id": "36f988e5",
   "metadata": {},
   "source": [
    "By running HR_data_set.info() in Python, we can quickly discover missing data by counting the non-null values in each column. Before analyzing the dataset, this helps us understand its structure and content."
   ]
  },
  {
   "cell_type": "code",
   "execution_count": 5,
   "id": "e8e8cec2",
   "metadata": {},
   "outputs": [
    {
     "name": "stdout",
     "output_type": "stream",
     "text": [
      "<class 'pandas.core.frame.DataFrame'>\n",
      "RangeIndex: 311 entries, 0 to 310\n",
      "Data columns (total 21 columns):\n",
      " #   Column                      Non-Null Count  Dtype  \n",
      "---  ------                      --------------  -----  \n",
      " 0   Employee_Name               311 non-null    object \n",
      " 1   EmpID                       311 non-null    int64  \n",
      " 2   MaritalDesc                 311 non-null    object \n",
      " 3   Sex                         311 non-null    object \n",
      " 4   EmploymentStatus            311 non-null    object \n",
      " 5   Department                  311 non-null    object \n",
      " 6   Position                    311 non-null    object \n",
      " 7   DateofHire                  311 non-null    object \n",
      " 8   PerformanceScore            311 non-null    object \n",
      " 9   Salary                      311 non-null    int64  \n",
      " 10  DateofTermination           104 non-null    object \n",
      " 11  TermReason                  311 non-null    object \n",
      " 12  ManagerName                 311 non-null    object \n",
      " 13  RecruitmentSource           311 non-null    object \n",
      " 14  EngagementSurvey            311 non-null    float64\n",
      " 15  EmpSatisfaction             311 non-null    int64  \n",
      " 16  SpecialProjectsCount        311 non-null    int64  \n",
      " 17  LastPerformanceReview_Date  311 non-null    object \n",
      " 18  DaysLateLast30              311 non-null    int64  \n",
      " 19  Absences                    311 non-null    int64  \n",
      " 20  Termination                 311 non-null    int64  \n",
      "dtypes: float64(1), int64(7), object(13)\n",
      "memory usage: 51.1+ KB\n"
     ]
    }
   ],
   "source": [
    "HR_data_set.info()"
   ]
  },
  {
   "cell_type": "markdown",
   "id": "c77f93e1",
   "metadata": {},
   "source": [
    "The pandas library's pd.to_datetime() method transforms the HR_data_set dataframe's \"LastPerformanceReview_Date\" field from text to datetime. This lets us utilize dates as datetime objects for time series analysis and date filtering."
   ]
  },
  {
   "cell_type": "code",
   "execution_count": 6,
   "id": "8bfefaa5",
   "metadata": {},
   "outputs": [],
   "source": [
    "HR_data_set['LastPerformanceReview_Date'] = pd.to_datetime(HR_data_set['LastPerformanceReview_Date'])"
   ]
  },
  {
   "cell_type": "markdown",
   "id": "3e21bb5d",
   "metadata": {},
   "source": [
    "This code returns the HR_data_set dataframe's missing values per column. We may count missing values in each column by using the data frame's isnull() function and chaining the sum() method. This helps discover columns that need data cleaning or imputation."
   ]
  },
  {
   "cell_type": "code",
   "execution_count": 7,
   "id": "68f6f3e3",
   "metadata": {},
   "outputs": [
    {
     "data": {
      "text/plain": [
       "Employee_Name                   0\n",
       "EmpID                           0\n",
       "MaritalDesc                     0\n",
       "Sex                             0\n",
       "EmploymentStatus                0\n",
       "Department                      0\n",
       "Position                        0\n",
       "DateofHire                      0\n",
       "PerformanceScore                0\n",
       "Salary                          0\n",
       "DateofTermination             207\n",
       "TermReason                      0\n",
       "ManagerName                     0\n",
       "RecruitmentSource               0\n",
       "EngagementSurvey                0\n",
       "EmpSatisfaction                 0\n",
       "SpecialProjectsCount            0\n",
       "LastPerformanceReview_Date      0\n",
       "DaysLateLast30                  0\n",
       "Absences                        0\n",
       "Termination                     0\n",
       "dtype: int64"
      ]
     },
     "execution_count": 7,
     "metadata": {},
     "output_type": "execute_result"
    }
   ],
   "source": [
    "HR_data_set.isnull().sum()"
   ]
  },
  {
   "cell_type": "markdown",
   "id": "fc14c8b1",
   "metadata": {},
   "source": [
    "**********\n",
    "# 5.Data Cleaning"
   ]
  },
  {
   "cell_type": "markdown",
   "id": "d12cac1e",
   "metadata": {},
   "source": [
    "\"DateofTermination\" has 207 missing values. This means 207 individuals are still working at the firm without a termination date. Missing data may greatly affect our studies and projections. Before analyzing these missing variables, we must choose a strategy. These rows may be deleted or imputed."
   ]
  },
  {
   "cell_type": "code",
   "execution_count": 8,
   "id": "1a30f6c1",
   "metadata": {
    "scrolled": true
   },
   "outputs": [],
   "source": [
    "HR_data_set.drop(columns=[\"DateofTermination\"], inplace=True)"
   ]
  },
  {
   "cell_type": "markdown",
   "id": "56763e18",
   "metadata": {},
   "source": [
    "\"HR_data_set.drop(columns=[\"DateofTermination\"], inplace=True)\" deletes the column. This column held employee termination dates, but 207 missing data could not be imputed, therefore it was removed."
   ]
  },
  {
   "cell_type": "code",
   "execution_count": 9,
   "id": "923fd977",
   "metadata": {},
   "outputs": [
    {
     "data": {
      "text/plain": [
       "Employee_Name                 0\n",
       "EmpID                         0\n",
       "MaritalDesc                   0\n",
       "Sex                           0\n",
       "EmploymentStatus              0\n",
       "Department                    0\n",
       "Position                      0\n",
       "DateofHire                    0\n",
       "PerformanceScore              0\n",
       "Salary                        0\n",
       "TermReason                    0\n",
       "ManagerName                   0\n",
       "RecruitmentSource             0\n",
       "EngagementSurvey              0\n",
       "EmpSatisfaction               0\n",
       "SpecialProjectsCount          0\n",
       "LastPerformanceReview_Date    0\n",
       "DaysLateLast30                0\n",
       "Absences                      0\n",
       "Termination                   0\n",
       "dtype: int64"
      ]
     },
     "execution_count": 9,
     "metadata": {},
     "output_type": "execute_result"
    }
   ],
   "source": [
    "HR_data_set.isnull().sum()"
   ]
  },
  {
   "cell_type": "code",
   "execution_count": 10,
   "id": "d11093c8",
   "metadata": {},
   "outputs": [
    {
     "data": {
      "text/plain": [
       "(311, 20)"
      ]
     },
     "execution_count": 10,
     "metadata": {},
     "output_type": "execute_result"
    }
   ],
   "source": [
    "HR_data_set.shape"
   ]
  },
  {
   "cell_type": "markdown",
   "id": "21e3e1aa",
   "metadata": {},
   "source": [
    "These codes add extra columns to the HR_data_set data frame in order to transform category variables to numerical ones, which is a standard machine learning preparation ste.\n",
    "*These new numerical columns can now be used for analysis and modeling purposes.*"
   ]
  },
  {
   "cell_type": "code",
   "execution_count": 11,
   "id": "2bfdd8bc",
   "metadata": {},
   "outputs": [],
   "source": [
    "HR_data_set[\"DepartmentID\"] = np.where((HR_data_set[\"Department\"] == \"Admin Offices\"), 1,\n",
    "                                       np.where((HR_data_set[\"Department\"] == \"Executive Office\"), 2,\n",
    "                                                np.where((HR_data_set[\"Department\"] == \"IT/IS\"), 3,\n",
    "                                                         np.where((HR_data_set[\"Department\"] == \"Production\"), 4,\n",
    "                                                                  np.where((HR_data_set[\"Department\"] == \"Sales\"), 5, 6)))))\n",
    "\n",
    "HR_data_set[\"SexID\"] = np.where((HR_data_set[\"Sex\"] == \"M\"), 1, 0)\n",
    "\n",
    "HR_data_set[\"MaritalID\"] = np.where((HR_data_set[\"MaritalDesc\"] == \"Single\"), 1,\n",
    "                                       np.where((HR_data_set[\"MaritalDesc\"] == \"Married\"), 2,\n",
    "                                                np.where((HR_data_set[\"MaritalDesc\"] == \"Divorced\"), 3,\n",
    "                                                         np.where((HR_data_set[\"MaritalDesc\"] == \"Widowed\"), 4, 5))))\n",
    "\n",
    "HR_data_set[\"EmploymentID\"] = np.where((HR_data_set[\"EmploymentStatus\"] == \"Active\"), 1,\n",
    "                                       np.where((HR_data_set[\"EmploymentStatus\"] == \"Voluntarily Terminated\"), 2, 3))\n",
    "                                              \n",
    "HR_data_set[\"PositionID\"] = np.where(HR_data_set[\"Position\"] == \"Accountant I\", 1,\n",
    "                                      np.where(HR_data_set[\"Position\"] == \"Administrative Assistant\", 2,\n",
    "                                      np.where(HR_data_set[\"Position\"] == \"Area Sales Manager\", 3,\n",
    "                                      np.where(HR_data_set[\"Position\"] == \"BI Developer\", 4,\n",
    "                                      np.where(HR_data_set[\"Position\"] == \"BI Director\", 5,\n",
    "                                      np.where(HR_data_set[\"Position\"] == \"CIO\", 6,\n",
    "                                      np.where(HR_data_set[\"Position\"] == \"Data Analyst\", 7,\n",
    "                                      np.where(HR_data_set[\"Position\"] == \"Data Architect\", 8,\n",
    "                                      np.where(HR_data_set[\"Position\"] == \"Database Administrator\", 9,\n",
    "                                      np.where(HR_data_set[\"Position\"] == \"Director of Operations\", 10,\n",
    "                                      np.where(HR_data_set[\"Position\"] == \"Director of Sales\", 11,\n",
    "                                      np.where(HR_data_set[\"Position\"] == \"Enterprise Architect\", 12,\n",
    "                                      np.where(HR_data_set[\"Position\"] == \"IT Director\", 13,\n",
    "                                      np.where(HR_data_set[\"Position\"] == \"IT Manager_DB\", 14,\n",
    "                                      np.where(HR_data_set[\"Position\"] == \"IT Manager_Infra\", 15,\n",
    "                                      np.where(HR_data_set[\"Position\"] == \"IT Manager_Support\", 16,\n",
    "                                      np.where(HR_data_set[\"Position\"] == \"IT Support\", 17,\n",
    "                                      np.where(HR_data_set[\"Position\"] == \"Network Engineer\", 18,\n",
    "                                      np.where(HR_data_set[\"Position\"] == \"President & CEO\", 19,\n",
    "                                      np.where(HR_data_set[\"Position\"] == \"Principal Data Architect\", 20,\n",
    "                                      np.where(HR_data_set[\"Position\"] == \"Production Manager\", 21,\n",
    "                                      np.where(HR_data_set[\"Position\"] == \"Production Technician I\", 22,\n",
    "                                      np.where(HR_data_set[\"Position\"] == \"Production Technician II\",23,\n",
    "                                      np.where(HR_data_set[\"Position\"] == \"Sales Manager\", 24,\n",
    "                                      np.where(HR_data_set[\"Position\"] == \"Senior BI Developer\", 25,\n",
    "                                      np.where(HR_data_set[\"Position\"] == \"Shared Services Manager\", 26,\n",
    "                                      np.where(HR_data_set[\"Position\"] == \"Software Engineer\", 27,\n",
    "                                      np.where(HR_data_set[\"Position\"] == \"Software Engineering Manager\", 28,\n",
    "                                      np.where(HR_data_set[\"Position\"] == \"Sr_Accountant\", 29,\n",
    "                                      np.where(HR_data_set[\"Position\"] == \"Sr_DBA\", 30,\n",
    "                                      np.where(HR_data_set[\"Position\"] == \"Sr_Network Engineer\", 31, 32)))))))))))))))))))))))))))))))\n",
    "\n",
    "\n",
    "HR_data_set[\"PerformanceScoreID\"] = np.where((HR_data_set[\"PerformanceScore\"] == \"Exceeds\"), 4,\n",
    "                                       np.where((HR_data_set[\"PerformanceScore\"] == \"Fully Meets\"), 3,\n",
    "                                                np.where((HR_data_set[\"PerformanceScore\"] == \"Needs Improvement\"), 2, 1)))\n"
   ]
  },
  {
   "cell_type": "code",
   "execution_count": 12,
   "id": "170e5555",
   "metadata": {},
   "outputs": [
    {
     "data": {
      "text/plain": [
       "(311, 26)"
      ]
     },
     "execution_count": 12,
     "metadata": {},
     "output_type": "execute_result"
    }
   ],
   "source": [
    "\n",
    "HR_data_set.shape"
   ]
  },
  {
   "cell_type": "code",
   "execution_count": 13,
   "id": "9bd26add",
   "metadata": {
    "scrolled": true
   },
   "outputs": [
    {
     "data": {
      "text/html": [
       "<div>\n",
       "<style scoped>\n",
       "    .dataframe tbody tr th:only-of-type {\n",
       "        vertical-align: middle;\n",
       "    }\n",
       "\n",
       "    .dataframe tbody tr th {\n",
       "        vertical-align: top;\n",
       "    }\n",
       "\n",
       "    .dataframe thead th {\n",
       "        text-align: right;\n",
       "    }\n",
       "</style>\n",
       "<table border=\"1\" class=\"dataframe\">\n",
       "  <thead>\n",
       "    <tr style=\"text-align: right;\">\n",
       "      <th></th>\n",
       "      <th>Employee_Name</th>\n",
       "      <th>EmpID</th>\n",
       "      <th>MaritalDesc</th>\n",
       "      <th>Sex</th>\n",
       "      <th>EmploymentStatus</th>\n",
       "      <th>Department</th>\n",
       "      <th>Position</th>\n",
       "      <th>DateofHire</th>\n",
       "      <th>PerformanceScore</th>\n",
       "      <th>Salary</th>\n",
       "      <th>...</th>\n",
       "      <th>LastPerformanceReview_Date</th>\n",
       "      <th>DaysLateLast30</th>\n",
       "      <th>Absences</th>\n",
       "      <th>Termination</th>\n",
       "      <th>DepartmentID</th>\n",
       "      <th>SexID</th>\n",
       "      <th>MaritalID</th>\n",
       "      <th>EmploymentID</th>\n",
       "      <th>PositionID</th>\n",
       "      <th>PerformanceScoreID</th>\n",
       "    </tr>\n",
       "  </thead>\n",
       "  <tbody>\n",
       "    <tr>\n",
       "      <th>0</th>\n",
       "      <td>King, Janet</td>\n",
       "      <td>10089</td>\n",
       "      <td>Married</td>\n",
       "      <td>F</td>\n",
       "      <td>Active</td>\n",
       "      <td>Executive Office</td>\n",
       "      <td>President &amp; CEO</td>\n",
       "      <td>7/2/2012</td>\n",
       "      <td>Fully Meets</td>\n",
       "      <td>250000</td>\n",
       "      <td>...</td>\n",
       "      <td>2019-01-17</td>\n",
       "      <td>0</td>\n",
       "      <td>10</td>\n",
       "      <td>0</td>\n",
       "      <td>2</td>\n",
       "      <td>0</td>\n",
       "      <td>2</td>\n",
       "      <td>1</td>\n",
       "      <td>19</td>\n",
       "      <td>3</td>\n",
       "    </tr>\n",
       "    <tr>\n",
       "      <th>1</th>\n",
       "      <td>Zamora, Jennifer</td>\n",
       "      <td>10010</td>\n",
       "      <td>Single</td>\n",
       "      <td>F</td>\n",
       "      <td>Active</td>\n",
       "      <td>IT/IS</td>\n",
       "      <td>CIO</td>\n",
       "      <td>4/10/2010</td>\n",
       "      <td>Exceeds</td>\n",
       "      <td>220450</td>\n",
       "      <td>...</td>\n",
       "      <td>2019-02-21</td>\n",
       "      <td>0</td>\n",
       "      <td>16</td>\n",
       "      <td>0</td>\n",
       "      <td>3</td>\n",
       "      <td>0</td>\n",
       "      <td>1</td>\n",
       "      <td>1</td>\n",
       "      <td>6</td>\n",
       "      <td>4</td>\n",
       "    </tr>\n",
       "    <tr>\n",
       "      <th>2</th>\n",
       "      <td>Houlihan, Debra</td>\n",
       "      <td>10272</td>\n",
       "      <td>Married</td>\n",
       "      <td>F</td>\n",
       "      <td>Active</td>\n",
       "      <td>Sales</td>\n",
       "      <td>Director of Sales</td>\n",
       "      <td>5/5/2014</td>\n",
       "      <td>Fully Meets</td>\n",
       "      <td>180000</td>\n",
       "      <td>...</td>\n",
       "      <td>2019-01-21</td>\n",
       "      <td>0</td>\n",
       "      <td>19</td>\n",
       "      <td>0</td>\n",
       "      <td>5</td>\n",
       "      <td>0</td>\n",
       "      <td>2</td>\n",
       "      <td>1</td>\n",
       "      <td>11</td>\n",
       "      <td>3</td>\n",
       "    </tr>\n",
       "    <tr>\n",
       "      <th>3</th>\n",
       "      <td>Foss, Jason</td>\n",
       "      <td>10015</td>\n",
       "      <td>Single</td>\n",
       "      <td>M</td>\n",
       "      <td>Active</td>\n",
       "      <td>IT/IS</td>\n",
       "      <td>IT Director</td>\n",
       "      <td>4/15/2011</td>\n",
       "      <td>Exceeds</td>\n",
       "      <td>178000</td>\n",
       "      <td>...</td>\n",
       "      <td>2019-01-07</td>\n",
       "      <td>0</td>\n",
       "      <td>15</td>\n",
       "      <td>0</td>\n",
       "      <td>3</td>\n",
       "      <td>0</td>\n",
       "      <td>1</td>\n",
       "      <td>1</td>\n",
       "      <td>13</td>\n",
       "      <td>4</td>\n",
       "    </tr>\n",
       "    <tr>\n",
       "      <th>4</th>\n",
       "      <td>Corleone, Vito</td>\n",
       "      <td>10019</td>\n",
       "      <td>Single</td>\n",
       "      <td>M</td>\n",
       "      <td>Active</td>\n",
       "      <td>Production</td>\n",
       "      <td>Director of Operations</td>\n",
       "      <td>1/5/2009</td>\n",
       "      <td>Exceeds</td>\n",
       "      <td>170500</td>\n",
       "      <td>...</td>\n",
       "      <td>2019-02-04</td>\n",
       "      <td>0</td>\n",
       "      <td>15</td>\n",
       "      <td>0</td>\n",
       "      <td>6</td>\n",
       "      <td>0</td>\n",
       "      <td>1</td>\n",
       "      <td>1</td>\n",
       "      <td>10</td>\n",
       "      <td>4</td>\n",
       "    </tr>\n",
       "  </tbody>\n",
       "</table>\n",
       "<p>5 rows × 26 columns</p>\n",
       "</div>"
      ],
      "text/plain": [
       "      Employee_Name  EmpID MaritalDesc Sex EmploymentStatus  \\\n",
       "0       King, Janet  10089     Married   F           Active   \n",
       "1  Zamora, Jennifer  10010      Single   F           Active   \n",
       "2   Houlihan, Debra  10272     Married   F           Active   \n",
       "3       Foss, Jason  10015      Single  M            Active   \n",
       "4    Corleone, Vito  10019      Single  M            Active   \n",
       "\n",
       "          Department                Position DateofHire PerformanceScore  \\\n",
       "0   Executive Office         President & CEO   7/2/2012      Fully Meets   \n",
       "1              IT/IS                     CIO  4/10/2010          Exceeds   \n",
       "2              Sales       Director of Sales   5/5/2014      Fully Meets   \n",
       "3              IT/IS             IT Director  4/15/2011          Exceeds   \n",
       "4  Production         Director of Operations   1/5/2009          Exceeds   \n",
       "\n",
       "   Salary  ... LastPerformanceReview_Date DaysLateLast30 Absences  \\\n",
       "0  250000  ...                 2019-01-17              0       10   \n",
       "1  220450  ...                 2019-02-21              0       16   \n",
       "2  180000  ...                 2019-01-21              0       19   \n",
       "3  178000  ...                 2019-01-07              0       15   \n",
       "4  170500  ...                 2019-02-04              0       15   \n",
       "\n",
       "   Termination  DepartmentID  SexID MaritalID  EmploymentID  PositionID  \\\n",
       "0            0             2      0         2             1          19   \n",
       "1            0             3      0         1             1           6   \n",
       "2            0             5      0         2             1          11   \n",
       "3            0             3      0         1             1          13   \n",
       "4            0             6      0         1             1          10   \n",
       "\n",
       "   PerformanceScoreID  \n",
       "0                   3  \n",
       "1                   4  \n",
       "2                   3  \n",
       "3                   4  \n",
       "4                   4  \n",
       "\n",
       "[5 rows x 26 columns]"
      ]
     },
     "execution_count": 13,
     "metadata": {},
     "output_type": "execute_result"
    }
   ],
   "source": [
    "HR_data_set.head()"
   ]
  },
  {
   "cell_type": "markdown",
   "id": "76bbfcca",
   "metadata": {},
   "source": [
    "Using the drop technique, this code removes the original columns \"Department\", \"Position\", \"PerformanceScore\", \"Sex\", and \"MaritalDesc\" from the HR_data_set data frame.\n",
    "\n",
    "\n",
    "After running this code, the HR_data_set data frame will only include the newly formed columns and the old columns that remain."
   ]
  },
  {
   "cell_type": "code",
   "execution_count": 14,
   "id": "28509e91",
   "metadata": {},
   "outputs": [],
   "source": [
    "\n",
    "HR_data_set.drop(columns=[\"Department\", \"Position\", \"PerformanceScore\", \"Sex\", \"MaritalDesc\"], inplace=True)\n"
   ]
  },
  {
   "cell_type": "code",
   "execution_count": 15,
   "id": "e7d2ca95",
   "metadata": {},
   "outputs": [
    {
     "data": {
      "text/plain": [
       "(311, 21)"
      ]
     },
     "execution_count": 15,
     "metadata": {},
     "output_type": "execute_result"
    }
   ],
   "source": [
    "HR_data_set.shape"
   ]
  },
  {
   "cell_type": "code",
   "execution_count": 16,
   "id": "abdd1774",
   "metadata": {},
   "outputs": [
    {
     "name": "stdout",
     "output_type": "stream",
     "text": [
      "<class 'pandas.core.frame.DataFrame'>\n",
      "RangeIndex: 311 entries, 0 to 310\n",
      "Data columns (total 21 columns):\n",
      " #   Column                      Non-Null Count  Dtype         \n",
      "---  ------                      --------------  -----         \n",
      " 0   Employee_Name               311 non-null    object        \n",
      " 1   EmpID                       311 non-null    int64         \n",
      " 2   EmploymentStatus            311 non-null    object        \n",
      " 3   DateofHire                  311 non-null    object        \n",
      " 4   Salary                      311 non-null    int64         \n",
      " 5   TermReason                  311 non-null    object        \n",
      " 6   ManagerName                 311 non-null    object        \n",
      " 7   RecruitmentSource           311 non-null    object        \n",
      " 8   EngagementSurvey            311 non-null    float64       \n",
      " 9   EmpSatisfaction             311 non-null    int64         \n",
      " 10  SpecialProjectsCount        311 non-null    int64         \n",
      " 11  LastPerformanceReview_Date  311 non-null    datetime64[ns]\n",
      " 12  DaysLateLast30              311 non-null    int64         \n",
      " 13  Absences                    311 non-null    int64         \n",
      " 14  Termination                 311 non-null    int64         \n",
      " 15  DepartmentID                311 non-null    int32         \n",
      " 16  SexID                       311 non-null    int32         \n",
      " 17  MaritalID                   311 non-null    int32         \n",
      " 18  EmploymentID                311 non-null    int32         \n",
      " 19  PositionID                  311 non-null    int32         \n",
      " 20  PerformanceScoreID          311 non-null    int32         \n",
      "dtypes: datetime64[ns](1), float64(1), int32(6), int64(7), object(6)\n",
      "memory usage: 43.9+ KB\n"
     ]
    }
   ],
   "source": [
    "HR_data_set.info()"
   ]
  },
  {
   "cell_type": "markdown",
   "id": "b84744c6",
   "metadata": {},
   "source": [
    "*****\n",
    "# 6.Statistics Description"
   ]
  },
  {
   "cell_type": "markdown",
   "id": "79a49585",
   "metadata": {},
   "source": [
    "\"HR_data_set.describe()\" summarizes the numerical columns in the HR dataset statistically. It offers count, mean, standard deviation, minimum, maximum, and percentiles for each numerical column. This may help detect outliers, analyze data distribution, and comprehend numerical variable core trends and fluctuations.\n",
    "\n",
    "\n",
    "\n",
    "****** Only variables that are potential predictors in our model and are meaningful in terms of understanding the data have been interpreted. "
   ]
  },
  {
   "cell_type": "code",
   "execution_count": 17,
   "id": "0b45b434",
   "metadata": {},
   "outputs": [
    {
     "data": {
      "text/html": [
       "<div>\n",
       "<style scoped>\n",
       "    .dataframe tbody tr th:only-of-type {\n",
       "        vertical-align: middle;\n",
       "    }\n",
       "\n",
       "    .dataframe tbody tr th {\n",
       "        vertical-align: top;\n",
       "    }\n",
       "\n",
       "    .dataframe thead th {\n",
       "        text-align: right;\n",
       "    }\n",
       "</style>\n",
       "<table border=\"1\" class=\"dataframe\">\n",
       "  <thead>\n",
       "    <tr style=\"text-align: right;\">\n",
       "      <th></th>\n",
       "      <th>EmpID</th>\n",
       "      <th>Salary</th>\n",
       "      <th>EngagementSurvey</th>\n",
       "      <th>EmpSatisfaction</th>\n",
       "      <th>SpecialProjectsCount</th>\n",
       "      <th>DaysLateLast30</th>\n",
       "      <th>Absences</th>\n",
       "      <th>Termination</th>\n",
       "      <th>DepartmentID</th>\n",
       "      <th>SexID</th>\n",
       "      <th>MaritalID</th>\n",
       "      <th>EmploymentID</th>\n",
       "      <th>PositionID</th>\n",
       "      <th>PerformanceScoreID</th>\n",
       "    </tr>\n",
       "  </thead>\n",
       "  <tbody>\n",
       "    <tr>\n",
       "      <th>count</th>\n",
       "      <td>311.000000</td>\n",
       "      <td>311.000000</td>\n",
       "      <td>311.000000</td>\n",
       "      <td>311.000000</td>\n",
       "      <td>311.000000</td>\n",
       "      <td>311.000000</td>\n",
       "      <td>311.000000</td>\n",
       "      <td>311.000000</td>\n",
       "      <td>311.000000</td>\n",
       "      <td>311.0</td>\n",
       "      <td>311.000000</td>\n",
       "      <td>311.000000</td>\n",
       "      <td>311.000000</td>\n",
       "      <td>311.000000</td>\n",
       "    </tr>\n",
       "    <tr>\n",
       "      <th>mean</th>\n",
       "      <td>10156.000000</td>\n",
       "      <td>69020.684887</td>\n",
       "      <td>4.110000</td>\n",
       "      <td>3.890675</td>\n",
       "      <td>1.218650</td>\n",
       "      <td>0.414791</td>\n",
       "      <td>10.237942</td>\n",
       "      <td>0.334405</td>\n",
       "      <td>5.260450</td>\n",
       "      <td>0.0</td>\n",
       "      <td>1.823151</td>\n",
       "      <td>1.385852</td>\n",
       "      <td>19.160772</td>\n",
       "      <td>2.977492</td>\n",
       "    </tr>\n",
       "    <tr>\n",
       "      <th>std</th>\n",
       "      <td>89.922189</td>\n",
       "      <td>25156.636930</td>\n",
       "      <td>0.789938</td>\n",
       "      <td>0.909241</td>\n",
       "      <td>2.349421</td>\n",
       "      <td>1.294519</td>\n",
       "      <td>5.852596</td>\n",
       "      <td>0.472542</td>\n",
       "      <td>1.334292</td>\n",
       "      <td>0.0</td>\n",
       "      <td>0.979258</td>\n",
       "      <td>0.583918</td>\n",
       "      <td>7.282316</td>\n",
       "      <td>0.587072</td>\n",
       "    </tr>\n",
       "    <tr>\n",
       "      <th>min</th>\n",
       "      <td>10001.000000</td>\n",
       "      <td>45046.000000</td>\n",
       "      <td>1.120000</td>\n",
       "      <td>1.000000</td>\n",
       "      <td>0.000000</td>\n",
       "      <td>0.000000</td>\n",
       "      <td>1.000000</td>\n",
       "      <td>0.000000</td>\n",
       "      <td>1.000000</td>\n",
       "      <td>0.0</td>\n",
       "      <td>1.000000</td>\n",
       "      <td>1.000000</td>\n",
       "      <td>1.000000</td>\n",
       "      <td>1.000000</td>\n",
       "    </tr>\n",
       "    <tr>\n",
       "      <th>25%</th>\n",
       "      <td>10078.500000</td>\n",
       "      <td>55501.500000</td>\n",
       "      <td>3.690000</td>\n",
       "      <td>3.000000</td>\n",
       "      <td>0.000000</td>\n",
       "      <td>0.000000</td>\n",
       "      <td>5.000000</td>\n",
       "      <td>0.000000</td>\n",
       "      <td>5.000000</td>\n",
       "      <td>0.0</td>\n",
       "      <td>1.000000</td>\n",
       "      <td>1.000000</td>\n",
       "      <td>21.000000</td>\n",
       "      <td>3.000000</td>\n",
       "    </tr>\n",
       "    <tr>\n",
       "      <th>50%</th>\n",
       "      <td>10156.000000</td>\n",
       "      <td>62810.000000</td>\n",
       "      <td>4.280000</td>\n",
       "      <td>4.000000</td>\n",
       "      <td>0.000000</td>\n",
       "      <td>0.000000</td>\n",
       "      <td>10.000000</td>\n",
       "      <td>0.000000</td>\n",
       "      <td>6.000000</td>\n",
       "      <td>0.0</td>\n",
       "      <td>2.000000</td>\n",
       "      <td>1.000000</td>\n",
       "      <td>22.000000</td>\n",
       "      <td>3.000000</td>\n",
       "    </tr>\n",
       "    <tr>\n",
       "      <th>75%</th>\n",
       "      <td>10233.500000</td>\n",
       "      <td>72036.000000</td>\n",
       "      <td>4.700000</td>\n",
       "      <td>5.000000</td>\n",
       "      <td>0.000000</td>\n",
       "      <td>0.000000</td>\n",
       "      <td>15.000000</td>\n",
       "      <td>1.000000</td>\n",
       "      <td>6.000000</td>\n",
       "      <td>0.0</td>\n",
       "      <td>2.000000</td>\n",
       "      <td>2.000000</td>\n",
       "      <td>23.000000</td>\n",
       "      <td>3.000000</td>\n",
       "    </tr>\n",
       "    <tr>\n",
       "      <th>max</th>\n",
       "      <td>10311.000000</td>\n",
       "      <td>250000.000000</td>\n",
       "      <td>5.000000</td>\n",
       "      <td>5.000000</td>\n",
       "      <td>8.000000</td>\n",
       "      <td>6.000000</td>\n",
       "      <td>20.000000</td>\n",
       "      <td>1.000000</td>\n",
       "      <td>6.000000</td>\n",
       "      <td>0.0</td>\n",
       "      <td>5.000000</td>\n",
       "      <td>3.000000</td>\n",
       "      <td>31.000000</td>\n",
       "      <td>4.000000</td>\n",
       "    </tr>\n",
       "  </tbody>\n",
       "</table>\n",
       "</div>"
      ],
      "text/plain": [
       "              EmpID         Salary  EngagementSurvey  EmpSatisfaction  \\\n",
       "count    311.000000     311.000000        311.000000       311.000000   \n",
       "mean   10156.000000   69020.684887          4.110000         3.890675   \n",
       "std       89.922189   25156.636930          0.789938         0.909241   \n",
       "min    10001.000000   45046.000000          1.120000         1.000000   \n",
       "25%    10078.500000   55501.500000          3.690000         3.000000   \n",
       "50%    10156.000000   62810.000000          4.280000         4.000000   \n",
       "75%    10233.500000   72036.000000          4.700000         5.000000   \n",
       "max    10311.000000  250000.000000          5.000000         5.000000   \n",
       "\n",
       "       SpecialProjectsCount  DaysLateLast30    Absences  Termination  \\\n",
       "count            311.000000      311.000000  311.000000   311.000000   \n",
       "mean               1.218650        0.414791   10.237942     0.334405   \n",
       "std                2.349421        1.294519    5.852596     0.472542   \n",
       "min                0.000000        0.000000    1.000000     0.000000   \n",
       "25%                0.000000        0.000000    5.000000     0.000000   \n",
       "50%                0.000000        0.000000   10.000000     0.000000   \n",
       "75%                0.000000        0.000000   15.000000     1.000000   \n",
       "max                8.000000        6.000000   20.000000     1.000000   \n",
       "\n",
       "       DepartmentID  SexID   MaritalID  EmploymentID  PositionID  \\\n",
       "count    311.000000  311.0  311.000000    311.000000  311.000000   \n",
       "mean       5.260450    0.0    1.823151      1.385852   19.160772   \n",
       "std        1.334292    0.0    0.979258      0.583918    7.282316   \n",
       "min        1.000000    0.0    1.000000      1.000000    1.000000   \n",
       "25%        5.000000    0.0    1.000000      1.000000   21.000000   \n",
       "50%        6.000000    0.0    2.000000      1.000000   22.000000   \n",
       "75%        6.000000    0.0    2.000000      2.000000   23.000000   \n",
       "max        6.000000    0.0    5.000000      3.000000   31.000000   \n",
       "\n",
       "       PerformanceScoreID  \n",
       "count          311.000000  \n",
       "mean             2.977492  \n",
       "std              0.587072  \n",
       "min              1.000000  \n",
       "25%              3.000000  \n",
       "50%              3.000000  \n",
       "75%              3.000000  \n",
       "max              4.000000  "
      ]
     },
     "execution_count": 17,
     "metadata": {},
     "output_type": "execute_result"
    }
   ],
   "source": [
    "HR_data_set.describe()"
   ]
  },
  {
   "cell_type": "markdown",
   "id": "2d03fe1a",
   "metadata": {},
   "source": [
    "* **Salary:** \n",
    "\n",
    "We can see that the lowest and maximum wages are considerably diverse from one another, which leads us to believe that the dataset contains some workers who have incomes that are either extremely high or unusually low.\n",
    "\n",
    "\n",
    "* **EngagementSurvey:** \n",
    "\n",
    "This variable shows employee engagement survey scores. The survey assesses employee engagement. The average score is 4.11 out of 5, with a minimum of 1.12 and a maximum of 5.0. Scores cluster around the mean because the standard deviation is 0.79.\n",
    "\n",
    "\n",
    "The results of the survey indicate that a significant proportion of the workforce exhibits a considerable level of job engagement, as per the responses provided by the participants.\n",
    "\n",
    "\n",
    "* **EmpSatisfaction:** \n",
    "\n",
    "This variable measures each employee's degree of work satisfaction. According to the data, the average level of satisfaction is 3.89 out of 5, showing that stated levels of satisfaction are concentrated around the mean.\n",
    "\n",
    "\n",
    "Based on the replies that employees gave to the satisfaction survey, it seems that the vast majority of workers feel satisfied in their current positions to a certain extent.\n",
    "\n",
    "\n",
    "* **DaysLateLast30:**  \n",
    "\n",
    "This variable shows each employee's 30-day lateness. Statistics show that the average number of days late is 0.41, ranging from 0 to 6. The standard deviation is 1.29, showing that employee punctuality varies significantly.\n",
    "\n",
    "\n",
    "\n",
    "This suggests that most employees are generally punctual, with only a few instances of lateness.\n",
    "\n",
    "* **Absences:** \n",
    "\n",
    "This variable shows each employee's absence days. The average number of absences is 10.24, and the standard deviation is 5.85, demonstrating that employee absences vary widely.\n",
    "\n",
    "\n",
    "\n",
    "This indicates that the majority of workers have had a reasonable amount of absences; but, there are certain employees who have had an excessive quantity of absences.\n",
    "\n",
    "\n",
    "* **PerformanceScoreID:**\n",
    "\n",
    "This variable provides the performance score assigned to each employee. The score is determined by a number of elements, such as job knowledge, productivity, communication, and teamwork. The data show that the average score is 2.97, the standard deviation is 0.59, and the scores are grouped around the mean.\n",
    "\n",
    "\n",
    "According to their performance scores, it seems that the vast majority of workers are achieving a satisfactory level of success in their work.\n",
    "\n",
    "The performance score variable has a broad range of values, with some workers gaining scores as low as 1 and others receiving scores as high as 4, indicating considerable fluctuation in the quality of employee performance.\n",
    "\n"
   ]
  },
  {
   "cell_type": "markdown",
   "id": "d7d2372c",
   "metadata": {},
   "source": [
    "## 6.1 Dataset Distributions and Detecting Outliers"
   ]
  },
  {
   "cell_type": "markdown",
   "id": "09a671f4",
   "metadata": {},
   "source": [
    "We plot histograms for all HR dataset numerical variables using the hist() tool. Histograms depict dataset distributions. Histograms show varying distributions and outliers.\n",
    "\n",
    "\n",
    "Visualizing the histograms might reveal variables with many outliers. We may eliminate outliers from our analysis or replace them with the median or trim them to a specified value.\n"
   ]
  },
  {
   "cell_type": "code",
   "execution_count": 18,
   "id": "3a208d57",
   "metadata": {},
   "outputs": [
    {
     "data": {
      "image/png": "[encoded data removed]",
      "text/plain": [
       "<Figure size 2000x1500 with 16 Axes>"
      ]
     },
     "metadata": {},
     "output_type": "display_data"
    }
   ],
   "source": [
    "HR_data_set.hist(bins=10, figsize=(20, 15));"
   ]
  },
  {
   "cell_type": "markdown",
   "id": "6f5ffe9c",
   "metadata": {},
   "source": [
    "This code counts the number of outliers in the \"Salary\". It specifically counts how many cases of the \"Salary\" variable have values more than 180000, which is the threshold selected in this instance to find outliers.\n",
    "\n",
    "\n",
    "Based on a threshold of 180000, 2 cells in \"Salary\" column contain of outliers. "
   ]
  },
  {
   "cell_type": "code",
   "execution_count": 19,
   "id": "7978916d",
   "metadata": {},
   "outputs": [
    {
     "name": "stdout",
     "output_type": "stream",
     "text": [
      "2\n"
     ]
    }
   ],
   "source": [
    "count = len(HR_data_set[(HR_data_set[\"Salary\"] > 180000)])\n",
    "print(count)"
   ]
  },
  {
   "cell_type": "markdown",
   "id": "1efd3365",
   "metadata": {},
   "source": [
    "## 6.2 Removing the Outliers"
   ]
  },
  {
   "cell_type": "markdown",
   "id": "61949c21",
   "metadata": {},
   "source": [
    "The code makes a new HR_data_set by filtering away data points with \"Salary\" values above 180,000. Thus, it retains only data points with \"Salary\" values below 180,000."
   ]
  },
  {
   "cell_type": "code",
   "execution_count": 20,
   "id": "70e08f68",
   "metadata": {},
   "outputs": [],
   "source": [
    "HR_data_set = HR_data_set[HR_data_set[\"Salary\"]<=180000]\n"
   ]
  },
  {
   "cell_type": "markdown",
   "id": "b3301736",
   "metadata": {},
   "source": [
    "The histogram shows the dataset's salary distribution, showing trends and insights. We can check skewness, and normality."
   ]
  },
  {
   "cell_type": "code",
   "execution_count": 21,
   "id": "9d35ab7f",
   "metadata": {},
   "outputs": [
    {
     "data": {
      "text/plain": [
       "<AxesSubplot:>"
      ]
     },
     "execution_count": 21,
     "metadata": {},
     "output_type": "execute_result"
    },
    {
     "data": {
      "image/png": "[encoded data removed]",
      "text/plain": [
       "<Figure size 2000x1500 with 1 Axes>"
      ]
     },
     "metadata": {},
     "output_type": "display_data"
    }
   ],
   "source": [
    "HR_data_set[\"Salary\"].hist(bins=10, figsize=(20, 15))"
   ]
  },
  {
   "cell_type": "markdown",
   "id": "b15b01a1",
   "metadata": {},
   "source": [
    "## 6.3 Correlation Matrix"
   ]
  },
  {
   "cell_type": "markdown",
   "id": "69804084",
   "metadata": {},
   "source": [
    "The HR data set correlation matrix illustrates pairwise relationships between variables. The matrix values vary from -1 to 1, with 1 being a perfect positive correlation between two variables, 0 representing no correlation, and -1 a perfect negative correlation."
   ]
  },
  {
   "cell_type": "code",
   "execution_count": 22,
   "id": "1fd5698f",
   "metadata": {},
   "outputs": [],
   "source": [
    "correlation=HR_data_set[['EmploymentStatus', 'Salary',\n",
    "       'TermReason', 'RecruitmentSource', 'EngagementSurvey',\n",
    "       'EmpSatisfaction', 'SpecialProjectsCount',\n",
    "       'DaysLateLast30', 'Absences', 'DepartmentID', 'SexID', 'MaritalID',\n",
    "       'EmploymentID', 'PositionID', 'PerformanceScoreID', 'Termination']].corr()"
   ]
  },
  {
   "cell_type": "code",
   "execution_count": 23,
   "id": "bfd2108d",
   "metadata": {},
   "outputs": [
    {
     "data": {
      "text/html": [
       "<div>\n",
       "<style scoped>\n",
       "    .dataframe tbody tr th:only-of-type {\n",
       "        vertical-align: middle;\n",
       "    }\n",
       "\n",
       "    .dataframe tbody tr th {\n",
       "        vertical-align: top;\n",
       "    }\n",
       "\n",
       "    .dataframe thead th {\n",
       "        text-align: right;\n",
       "    }\n",
       "</style>\n",
       "<table border=\"1\" class=\"dataframe\">\n",
       "  <thead>\n",
       "    <tr style=\"text-align: right;\">\n",
       "      <th></th>\n",
       "      <th>Salary</th>\n",
       "      <th>EngagementSurvey</th>\n",
       "      <th>EmpSatisfaction</th>\n",
       "      <th>SpecialProjectsCount</th>\n",
       "      <th>DaysLateLast30</th>\n",
       "      <th>Absences</th>\n",
       "      <th>DepartmentID</th>\n",
       "      <th>SexID</th>\n",
       "      <th>MaritalID</th>\n",
       "      <th>EmploymentID</th>\n",
       "      <th>PositionID</th>\n",
       "      <th>PerformanceScoreID</th>\n",
       "      <th>Termination</th>\n",
       "    </tr>\n",
       "  </thead>\n",
       "  <tbody>\n",
       "    <tr>\n",
       "      <th>Salary</th>\n",
       "      <td>1.000000</td>\n",
       "      <td>0.037412</td>\n",
       "      <td>0.073324</td>\n",
       "      <td>0.572780</td>\n",
       "      <td>-0.065920</td>\n",
       "      <td>0.075935</td>\n",
       "      <td>-0.475125</td>\n",
       "      <td>NaN</td>\n",
       "      <td>-0.072307</td>\n",
       "      <td>-0.030543</td>\n",
       "      <td>-0.180208</td>\n",
       "      <td>0.114084</td>\n",
       "      <td>-0.075414</td>\n",
       "    </tr>\n",
       "    <tr>\n",
       "      <th>EngagementSurvey</th>\n",
       "      <td>0.037412</td>\n",
       "      <td>1.000000</td>\n",
       "      <td>0.188658</td>\n",
       "      <td>0.010754</td>\n",
       "      <td>-0.584988</td>\n",
       "      <td>-0.010674</td>\n",
       "      <td>-0.030254</td>\n",
       "      <td>NaN</td>\n",
       "      <td>0.041702</td>\n",
       "      <td>-0.068559</td>\n",
       "      <td>0.089506</td>\n",
       "      <td>0.545055</td>\n",
       "      <td>-0.014074</td>\n",
       "    </tr>\n",
       "    <tr>\n",
       "      <th>EmpSatisfaction</th>\n",
       "      <td>0.073324</td>\n",
       "      <td>0.188658</td>\n",
       "      <td>1.000000</td>\n",
       "      <td>0.024496</td>\n",
       "      <td>-0.236175</td>\n",
       "      <td>0.071612</td>\n",
       "      <td>0.009379</td>\n",
       "      <td>NaN</td>\n",
       "      <td>-0.007071</td>\n",
       "      <td>-0.010972</td>\n",
       "      <td>-0.014293</td>\n",
       "      <td>0.299495</td>\n",
       "      <td>-0.004203</td>\n",
       "    </tr>\n",
       "    <tr>\n",
       "      <th>SpecialProjectsCount</th>\n",
       "      <td>0.572780</td>\n",
       "      <td>0.010754</td>\n",
       "      <td>0.024496</td>\n",
       "      <td>1.000000</td>\n",
       "      <td>-0.091602</td>\n",
       "      <td>-0.027236</td>\n",
       "      <td>-0.805358</td>\n",
       "      <td>NaN</td>\n",
       "      <td>-0.054881</td>\n",
       "      <td>-0.089779</td>\n",
       "      <td>-0.217458</td>\n",
       "      <td>0.034697</td>\n",
       "      <td>-0.145218</td>\n",
       "    </tr>\n",
       "    <tr>\n",
       "      <th>DaysLateLast30</th>\n",
       "      <td>-0.065920</td>\n",
       "      <td>-0.584988</td>\n",
       "      <td>-0.236175</td>\n",
       "      <td>-0.091602</td>\n",
       "      <td>1.000000</td>\n",
       "      <td>0.002820</td>\n",
       "      <td>0.098755</td>\n",
       "      <td>NaN</td>\n",
       "      <td>-0.092912</td>\n",
       "      <td>0.221886</td>\n",
       "      <td>0.005058</td>\n",
       "      <td>-0.736749</td>\n",
       "      <td>0.135171</td>\n",
       "    </tr>\n",
       "    <tr>\n",
       "      <th>Absences</th>\n",
       "      <td>0.075935</td>\n",
       "      <td>-0.010674</td>\n",
       "      <td>0.071612</td>\n",
       "      <td>-0.027236</td>\n",
       "      <td>0.002820</td>\n",
       "      <td>1.000000</td>\n",
       "      <td>0.005489</td>\n",
       "      <td>NaN</td>\n",
       "      <td>0.006707</td>\n",
       "      <td>0.101863</td>\n",
       "      <td>-0.057528</td>\n",
       "      <td>0.041353</td>\n",
       "      <td>0.100765</td>\n",
       "    </tr>\n",
       "    <tr>\n",
       "      <th>DepartmentID</th>\n",
       "      <td>-0.475125</td>\n",
       "      <td>-0.030254</td>\n",
       "      <td>0.009379</td>\n",
       "      <td>-0.805358</td>\n",
       "      <td>0.098755</td>\n",
       "      <td>0.005489</td>\n",
       "      <td>1.000000</td>\n",
       "      <td>NaN</td>\n",
       "      <td>0.017629</td>\n",
       "      <td>0.095087</td>\n",
       "      <td>0.475281</td>\n",
       "      <td>-0.028443</td>\n",
       "      <td>0.156277</td>\n",
       "    </tr>\n",
       "    <tr>\n",
       "      <th>SexID</th>\n",
       "      <td>NaN</td>\n",
       "      <td>NaN</td>\n",
       "      <td>NaN</td>\n",
       "      <td>NaN</td>\n",
       "      <td>NaN</td>\n",
       "      <td>NaN</td>\n",
       "      <td>NaN</td>\n",
       "      <td>NaN</td>\n",
       "      <td>NaN</td>\n",
       "      <td>NaN</td>\n",
       "      <td>NaN</td>\n",
       "      <td>NaN</td>\n",
       "      <td>NaN</td>\n",
       "    </tr>\n",
       "    <tr>\n",
       "      <th>MaritalID</th>\n",
       "      <td>-0.072307</td>\n",
       "      <td>0.041702</td>\n",
       "      <td>-0.007071</td>\n",
       "      <td>-0.054881</td>\n",
       "      <td>-0.092912</td>\n",
       "      <td>0.006707</td>\n",
       "      <td>0.017629</td>\n",
       "      <td>NaN</td>\n",
       "      <td>1.000000</td>\n",
       "      <td>0.033772</td>\n",
       "      <td>0.020493</td>\n",
       "      <td>0.042918</td>\n",
       "      <td>0.064139</td>\n",
       "    </tr>\n",
       "    <tr>\n",
       "      <th>EmploymentID</th>\n",
       "      <td>-0.030543</td>\n",
       "      <td>-0.068559</td>\n",
       "      <td>-0.010972</td>\n",
       "      <td>-0.089779</td>\n",
       "      <td>0.221886</td>\n",
       "      <td>0.101863</td>\n",
       "      <td>0.095087</td>\n",
       "      <td>NaN</td>\n",
       "      <td>0.033772</td>\n",
       "      <td>1.000000</td>\n",
       "      <td>0.056924</td>\n",
       "      <td>-0.122100</td>\n",
       "      <td>0.933568</td>\n",
       "    </tr>\n",
       "    <tr>\n",
       "      <th>PositionID</th>\n",
       "      <td>-0.180208</td>\n",
       "      <td>0.089506</td>\n",
       "      <td>-0.014293</td>\n",
       "      <td>-0.217458</td>\n",
       "      <td>0.005058</td>\n",
       "      <td>-0.057528</td>\n",
       "      <td>0.475281</td>\n",
       "      <td>NaN</td>\n",
       "      <td>0.020493</td>\n",
       "      <td>0.056924</td>\n",
       "      <td>1.000000</td>\n",
       "      <td>0.007342</td>\n",
       "      <td>0.125351</td>\n",
       "    </tr>\n",
       "    <tr>\n",
       "      <th>PerformanceScoreID</th>\n",
       "      <td>0.114084</td>\n",
       "      <td>0.545055</td>\n",
       "      <td>0.299495</td>\n",
       "      <td>0.034697</td>\n",
       "      <td>-0.736749</td>\n",
       "      <td>0.041353</td>\n",
       "      <td>-0.028443</td>\n",
       "      <td>NaN</td>\n",
       "      <td>0.042918</td>\n",
       "      <td>-0.122100</td>\n",
       "      <td>0.007342</td>\n",
       "      <td>1.000000</td>\n",
       "      <td>-0.085531</td>\n",
       "    </tr>\n",
       "    <tr>\n",
       "      <th>Termination</th>\n",
       "      <td>-0.075414</td>\n",
       "      <td>-0.014074</td>\n",
       "      <td>-0.004203</td>\n",
       "      <td>-0.145218</td>\n",
       "      <td>0.135171</td>\n",
       "      <td>0.100765</td>\n",
       "      <td>0.156277</td>\n",
       "      <td>NaN</td>\n",
       "      <td>0.064139</td>\n",
       "      <td>0.933568</td>\n",
       "      <td>0.125351</td>\n",
       "      <td>-0.085531</td>\n",
       "      <td>1.000000</td>\n",
       "    </tr>\n",
       "  </tbody>\n",
       "</table>\n",
       "</div>"
      ],
      "text/plain": [
       "                        Salary  EngagementSurvey  EmpSatisfaction  \\\n",
       "Salary                1.000000          0.037412         0.073324   \n",
       "EngagementSurvey      0.037412          1.000000         0.188658   \n",
       "EmpSatisfaction       0.073324          0.188658         1.000000   \n",
       "SpecialProjectsCount  0.572780          0.010754         0.024496   \n",
       "DaysLateLast30       -0.065920         -0.584988        -0.236175   \n",
       "Absences              0.075935         -0.010674         0.071612   \n",
       "DepartmentID         -0.475125         -0.030254         0.009379   \n",
       "SexID                      NaN               NaN              NaN   \n",
       "MaritalID            -0.072307          0.041702        -0.007071   \n",
       "EmploymentID         -0.030543         -0.068559        -0.010972   \n",
       "PositionID           -0.180208          0.089506        -0.014293   \n",
       "PerformanceScoreID    0.114084          0.545055         0.299495   \n",
       "Termination          -0.075414         -0.014074        -0.004203   \n",
       "\n",
       "                      SpecialProjectsCount  DaysLateLast30  Absences  \\\n",
       "Salary                            0.572780       -0.065920  0.075935   \n",
       "EngagementSurvey                  0.010754       -0.584988 -0.010674   \n",
       "EmpSatisfaction                   0.024496       -0.236175  0.071612   \n",
       "SpecialProjectsCount              1.000000       -0.091602 -0.027236   \n",
       "DaysLateLast30                   -0.091602        1.000000  0.002820   \n",
       "Absences                         -0.027236        0.002820  1.000000   \n",
       "DepartmentID                     -0.805358        0.098755  0.005489   \n",
       "SexID                                  NaN             NaN       NaN   \n",
       "MaritalID                        -0.054881       -0.092912  0.006707   \n",
       "EmploymentID                     -0.089779        0.221886  0.101863   \n",
       "PositionID                       -0.217458        0.005058 -0.057528   \n",
       "PerformanceScoreID                0.034697       -0.736749  0.041353   \n",
       "Termination                      -0.145218        0.135171  0.100765   \n",
       "\n",
       "                      DepartmentID  SexID  MaritalID  EmploymentID  \\\n",
       "Salary                   -0.475125    NaN  -0.072307     -0.030543   \n",
       "EngagementSurvey         -0.030254    NaN   0.041702     -0.068559   \n",
       "EmpSatisfaction           0.009379    NaN  -0.007071     -0.010972   \n",
       "SpecialProjectsCount     -0.805358    NaN  -0.054881     -0.089779   \n",
       "DaysLateLast30            0.098755    NaN  -0.092912      0.221886   \n",
       "Absences                  0.005489    NaN   0.006707      0.101863   \n",
       "DepartmentID              1.000000    NaN   0.017629      0.095087   \n",
       "SexID                          NaN    NaN        NaN           NaN   \n",
       "MaritalID                 0.017629    NaN   1.000000      0.033772   \n",
       "EmploymentID              0.095087    NaN   0.033772      1.000000   \n",
       "PositionID                0.475281    NaN   0.020493      0.056924   \n",
       "PerformanceScoreID       -0.028443    NaN   0.042918     -0.122100   \n",
       "Termination               0.156277    NaN   0.064139      0.933568   \n",
       "\n",
       "                      PositionID  PerformanceScoreID  Termination  \n",
       "Salary                 -0.180208            0.114084    -0.075414  \n",
       "EngagementSurvey        0.089506            0.545055    -0.014074  \n",
       "EmpSatisfaction        -0.014293            0.299495    -0.004203  \n",
       "SpecialProjectsCount   -0.217458            0.034697    -0.145218  \n",
       "DaysLateLast30          0.005058           -0.736749     0.135171  \n",
       "Absences               -0.057528            0.041353     0.100765  \n",
       "DepartmentID            0.475281           -0.028443     0.156277  \n",
       "SexID                        NaN                 NaN          NaN  \n",
       "MaritalID               0.020493            0.042918     0.064139  \n",
       "EmploymentID            0.056924           -0.122100     0.933568  \n",
       "PositionID              1.000000            0.007342     0.125351  \n",
       "PerformanceScoreID      0.007342            1.000000    -0.085531  \n",
       "Termination             0.125351           -0.085531     1.000000  "
      ]
     },
     "metadata": {},
     "output_type": "display_data"
    }
   ],
   "source": [
    "display(correlation)"
   ]
  },
  {
   "cell_type": "markdown",
   "id": "f8c53399",
   "metadata": {},
   "source": [
    "The following are a few interpretations that may be drawn from the matrix to aid in modeling and our comprehension of the data framework:\n",
    "\n",
    "\n",
    "1- There is a significant negative correlation between **EngagementSurvey** and **DaysLateLast30** (-0.58), which means that workers who scored lower on the engagement survey are more likely to have been late in the last 30 days.\n",
    "\n",
    "\n",
    "2- **EmpSatisfaction** has a moderately positive correlation with **PerformanceScoreID** (0.30), which means that workers who are happier with their jobs tend to have better performance scores.\n",
    "\n",
    "\n",
    "\n",
    "3- **DaysLateLast30** has a substantial negative correlation (-0.74) with **PerformanceScoreID** (showing that workers who have more late days in the previous 30 days have lower performance scores).\n",
    "\n",
    "\n",
    "\n",
    "4- **EmploymentID** shows a substantial positive correlation with **Termination** (0.93) (showing that individuals who have been employed for a longer period of time and occupy certain roles are more likely to be terminated).\n",
    "\n",
    "\n",
    "5- **PerformanceScoreID** has a moderately good correlation (0.55) with **EngagementSurvey**, which suggests that workers with better engagement survey scores tend to have higher performance scores.\n"
   ]
  },
  {
   "cell_type": "markdown",
   "id": "5cffe5c3",
   "metadata": {},
   "source": [
    "*The heatmap's cell colors indicate the two variables' correlation strength and direction. Darker tones of blue indicate higher positive correlations. Darker reds indicate higher correlations that are negative. Stronger correlations are darker*.\n"
   ]
  },
  {
   "cell_type": "code",
   "execution_count": 24,
   "id": "e7aa5a28",
   "metadata": {},
   "outputs": [
    {
     "data": {
      "image/png": "[encoded data removed]",
      "text/plain": [
       "<Figure size 640x480 with 2 Axes>"
      ]
     },
     "metadata": {},
     "output_type": "display_data"
    }
   ],
   "source": [
    "sns.heatmap(correlation, cmap=\"RdBu\", fmt=\".1f\", square=True, linecolor=\"black\", annot=True);"
   ]
  },
  {
   "cell_type": "markdown",
   "id": "363a89db",
   "metadata": {},
   "source": [
    "*********\n",
    "# 7.Regression Model"
   ]
  },
  {
   "cell_type": "markdown",
   "id": "ebd04a4f",
   "metadata": {},
   "source": [
    "With the help of the regression model, specifically the **Ordinary Least Squares (OLS)** method, a number of independent variables (salary, department, engagement survey results, absences, employee satisfaction, and days late to work in the previous 30 days) were modeled to explain the relationship between the dependent variable (performance score) and the independent variables. "
   ]
  },
  {
   "cell_type": "code",
   "execution_count": 25,
   "id": "82b3edc3",
   "metadata": {},
   "outputs": [],
   "source": [
    "HR_data_set[\"Intercept\"]=1"
   ]
  },
  {
   "cell_type": "markdown",
   "id": "07f6a349",
   "metadata": {},
   "source": [
    " The intercept term represents the y-value of the regression line when all predictor variables are set to 0."
   ]
  },
  {
   "cell_type": "markdown",
   "id": "dce9f4e1",
   "metadata": {},
   "source": [
    "<H3>The OLS Model"
   ]
  },
  {
   "cell_type": "markdown",
   "id": "becb07d0",
   "metadata": {},
   "source": [
    "This code fits an OLS model to the HR dataset to predict \"PerformanceScoreID\" based on numerous independent factors. \n",
    "\n",
    "HR_data_set[\"Intercept\"]=1 adds an intercept column.\n",
    "\n",
    "The code then produces an independent variable X matrix and a dependent variable y variable. The X matrix contains the independent variables and the intercept column."
   ]
  },
  {
   "cell_type": "markdown",
   "id": "49ceda29",
   "metadata": {},
   "source": [
    "## 7.1 First Stage"
   ]
  },
  {
   "cell_type": "code",
   "execution_count": 27,
   "id": "662f5911",
   "metadata": {},
   "outputs": [
    {
     "name": "stdout",
     "output_type": "stream",
     "text": [
      "                            OLS Regression Results                            \n",
      "==============================================================================\n",
      "Dep. Variable:     PerformanceScoreID   R-squared:                       0.587\n",
      "Model:                            OLS   Adj. R-squared:                  0.578\n",
      "Method:                 Least Squares   F-statistic:                     71.43\n",
      "Date:                Wed, 10 May 2023   Prob (F-statistic):           4.72e-55\n",
      "Time:                        21:19:51   Log-Likelihood:                -136.36\n",
      "No. Observations:                 309   AIC:                             286.7\n",
      "Df Residuals:                     302   BIC:                             312.9\n",
      "Df Model:                           6                                         \n",
      "Covariance Type:            nonrobust                                         \n",
      "====================================================================================\n",
      "                       coef    std err          t      P>|t|      [0.025      0.975]\n",
      "------------------------------------------------------------------------------------\n",
      "Intercept            1.9141      0.222      8.628      0.000       1.477       2.351\n",
      "Salary            2.627e-06   1.16e-06      2.257      0.025    3.36e-07    4.92e-06\n",
      "DepartmentID         0.0363      0.019      1.927      0.055      -0.001       0.073\n",
      "EngagementSurvey     0.1199      0.034      3.538      0.000       0.053       0.187\n",
      "Absences             0.0029      0.004      0.779      0.437      -0.004       0.010\n",
      "EmpSatisfaction      0.0731      0.025      2.952      0.003       0.024       0.122\n",
      "DaysLateLast30      -0.2786      0.021    -13.286      0.000      -0.320      -0.237\n",
      "==============================================================================\n",
      "Omnibus:                       51.395   Durbin-Watson:                   1.770\n",
      "Prob(Omnibus):                  0.000   Jarque-Bera (JB):              118.927\n",
      "Skew:                           0.817   Prob(JB):                     1.50e-26\n",
      "Kurtosis:                       5.563   Cond. No.                     7.35e+05\n",
      "==============================================================================\n",
      "\n",
      "Notes:\n",
      "[1] Standard Errors assume that the covariance matrix of the errors is correctly specified.\n",
      "[2] The condition number is large, 7.35e+05. This might indicate that there are\n",
      "strong multicollinearity or other numerical problems.\n"
     ]
    }
   ],
   "source": [
    "import statsmodels.api as sm\n",
    "\n",
    "# create X matrix with intercept\n",
    "X = sm.add_constant(HR_data_set[[\"Intercept\",\"Salary\",\"DepartmentID\",\"EngagementSurvey\",\"Absences\",\"EmpSatisfaction\",\"DaysLateLast30\"]])\n",
    "\n",
    "# Add an intercept term\n",
    "X = sm.add_constant(X)  \n",
    "\n",
    "# create y variable\n",
    "y = HR_data_set[\"PerformanceScoreID\"]\n",
    "\n",
    "# create OLS model\n",
    "ols_model = sm.OLS(y, X)\n",
    "\n",
    "# fit the model\n",
    "results = ols_model.fit()\n",
    "\n",
    "# print the summary\n",
    "print(results.summary())"
   ]
  },
  {
   "cell_type": "markdown",
   "id": "39136f2e",
   "metadata": {},
   "source": [
    "<h3>Analysis of the Model (first stage)\n"
   ]
  },
  {
   "cell_type": "markdown",
   "id": "bd2b8e14",
   "metadata": {},
   "source": [
    "* The regression model is statistically significant at a very high degree of confidence, as shown by the **\"Prob (F-statistic)\"** score of 4.72e-55. This indicates that all of the independent variables included in the model are effective predictors of the dependent variable(McAleer, 2020). \n",
    "\n",
    "\n",
    "* The **R-squared** value of 0.587 means the independent variables explain about 58.7% of the variability in the performance score. Furthermore, the **adjusted R-squared** value is 0.578, which accounts for the number of variables in the model and provides a more precise indicator of goodness of fit(McAleer, 2020).\n",
    "\n",
    "\n",
    "* Looking at the **coefficients** for each independent variable, we recognize that all variables have statistically significant coefficients demonstrating that they have a significant impact on the PerformanceScoreID, with the exception of Absences and DepartmentID (these variables do not have a statistically significant relationship with the performance score because their **P-values** are greater than 0.05). Increases in Salary, EngagementSurvey, and EmpSatisfaction have been correlated with increases in PerformanceScoreID, while increases in DaysLateLast30 are associated with decreases in PerformanceScoreID(McAleer, 2020).\n",
    "\n",
    "\n",
    "* Simply put, workers with better engaged, and satisfied with their jobs, and less lateness have higher performance scores. Salary and performance scores are positively correlated, although not as strongly as other factors. \n",
    "\n",
    "\n",
    "* The significant **condition number** of 7.35e+05 suggests multicollinearity. This indicates that certain independent variables may be closely associated and duplicate information in the model, which could impact coefficient accuracy and interpretability(McAleer, 2020).\n",
    "\n"
   ]
  },
  {
   "cell_type": "markdown",
   "id": "8176c375",
   "metadata": {},
   "source": [
    "## 7.2 Scond Stage"
   ]
  },
  {
   "cell_type": "markdown",
   "id": "e0295a57",
   "metadata": {},
   "source": [
    "* The statistical significance of each independent variable is indicated by the p-values in the \"P>|t|\" column.\n",
    "\n",
    "\n",
    "**whereas:**\n",
    "\n",
    "According to the earlier regression model analysis, the **\"Absences\"** variable is not statistically significant at the 5% level, with a p-value of **0.437**. In a similar way the variable **\"DepartmentID\"** has a large p-value of **0.055**, indicating that it is not statistically significant at the 5% level.\n",
    "\n",
    "\n",
    "As a result, we could eliminate these variables from the model and re-create the regression model using just the variables that are still considered independent."
   ]
  },
  {
   "cell_type": "code",
   "execution_count": 28,
   "id": "f42a52d7",
   "metadata": {},
   "outputs": [
    {
     "name": "stdout",
     "output_type": "stream",
     "text": [
      "                            OLS Regression Results                            \n",
      "==============================================================================\n",
      "Dep. Variable:     PerformanceScoreID   R-squared:                       0.581\n",
      "Model:                            OLS   Adj. R-squared:                  0.575\n",
      "Method:                 Least Squares   F-statistic:                     105.2\n",
      "Date:                Wed, 10 May 2023   Prob (F-statistic):           4.00e-56\n",
      "Time:                        21:19:58   Log-Likelihood:                -138.63\n",
      "No. Observations:                 309   AIC:                             287.3\n",
      "Df Residuals:                     304   BIC:                             305.9\n",
      "Df Model:                           4                                         \n",
      "Covariance Type:            nonrobust                                         \n",
      "====================================================================================\n",
      "                       coef    std err          t      P>|t|      [0.025      0.975]\n",
      "------------------------------------------------------------------------------------\n",
      "Intercept            2.1764      0.183     11.902      0.000       1.817       2.536\n",
      "Salary            1.621e-06   1.02e-06      1.582      0.115   -3.95e-07    3.64e-06\n",
      "EngagementSurvey     0.1217      0.034      3.579      0.000       0.055       0.189\n",
      "EmpSatisfaction      0.0777      0.025      3.140      0.002       0.029       0.126\n",
      "DaysLateLast30      -0.2746      0.021    -13.102      0.000      -0.316      -0.233\n",
      "==============================================================================\n",
      "Omnibus:                       52.412   Durbin-Watson:                   1.755\n",
      "Prob(Omnibus):                  0.000   Jarque-Bera (JB):              119.833\n",
      "Skew:                           0.837   Prob(JB):                     9.52e-27\n",
      "Kurtosis:                       5.551   Cond. No.                     6.08e+05\n",
      "==============================================================================\n",
      "\n",
      "Notes:\n",
      "[1] Standard Errors assume that the covariance matrix of the errors is correctly specified.\n",
      "[2] The condition number is large, 6.08e+05. This might indicate that there are\n",
      "strong multicollinearity or other numerical problems.\n"
     ]
    }
   ],
   "source": [
    "import statsmodels.api as sm\n",
    "\n",
    "# create X matrix with intercept\n",
    "X = sm.add_constant(HR_data_set[[\"Intercept\",\"Salary\",\"EngagementSurvey\",\"EmpSatisfaction\",\"DaysLateLast30\"]])\n",
    "\n",
    "# Add an intercept term\n",
    "X = sm.add_constant(X) \n",
    "\n",
    "# create y variable\n",
    "y = HR_data_set[\"PerformanceScoreID\"]\n",
    "\n",
    "# create OLS model\n",
    "ols_model = sm.OLS(y, X)\n",
    "\n",
    "# fit the model\n",
    "results = ols_model.fit()\n",
    "\n",
    "# print the summary\n",
    "print(results.summary())"
   ]
  },
  {
   "cell_type": "markdown",
   "id": "7b970a47",
   "metadata": {},
   "source": [
    "<h3>Analysis of the Model (second stage)"
   ]
  },
  {
   "cell_type": "markdown",
   "id": "7f5a9a23",
   "metadata": {},
   "source": [
    "\n",
    "* The **coefficient** for **Salary** is 1.621e-06, which means that an increase in the Salary of one unit causes an increase in **PerformanceScoreID** of 1.621e-06 units. The impact of \"Salary\" on \"PerformanceScoreID\" is not statistically significant in this model, however, since the **P-value (P>|t|) is 0.115**, which is more than the normal significance threshold of 0.05.\n",
    "\n",
    "According to this evidence, \"Salary\" is probably not a statistically significant predictor of \"PerformanceScoreID.\"\n",
    "\n",
    "\n",
    "\n",
    "* As a result, we may take the \"Salary\" variable out of the model and run the regression again using the other variables. We can determine whether factors are still useful in predicting the \"PerformanceScoreID\" by looking at the results of the revised regression."
   ]
  },
  {
   "cell_type": "markdown",
   "id": "0308decd",
   "metadata": {},
   "source": [
    "## 7.3 Third Stage"
   ]
  },
  {
   "cell_type": "code",
   "execution_count": 29,
   "id": "52a7a84b",
   "metadata": {},
   "outputs": [
    {
     "name": "stdout",
     "output_type": "stream",
     "text": [
      "                            OLS Regression Results                            \n",
      "==============================================================================\n",
      "Dep. Variable:     PerformanceScoreID   R-squared:                       0.577\n",
      "Model:                            OLS   Adj. R-squared:                  0.573\n",
      "Method:                 Least Squares   F-statistic:                     138.7\n",
      "Date:                Wed, 10 May 2023   Prob (F-statistic):           1.08e-56\n",
      "Time:                        21:20:05   Log-Likelihood:                -139.89\n",
      "No. Observations:                 309   AIC:                             287.8\n",
      "Df Residuals:                     305   BIC:                             302.7\n",
      "Df Model:                           3                                         \n",
      "Covariance Type:            nonrobust                                         \n",
      "====================================================================================\n",
      "                       coef    std err          t      P>|t|      [0.025      0.975]\n",
      "------------------------------------------------------------------------------------\n",
      "Intercept            2.2793      0.171     13.302      0.000       1.942       2.616\n",
      "EngagementSurvey     0.1214      0.034      3.562      0.000       0.054       0.189\n",
      "EmpSatisfaction      0.0801      0.025      3.233      0.001       0.031       0.129\n",
      "DaysLateLast30      -0.2761      0.021    -13.153      0.000      -0.317      -0.235\n",
      "==============================================================================\n",
      "Omnibus:                       51.577   Durbin-Watson:                   1.742\n",
      "Prob(Omnibus):                  0.000   Jarque-Bera (JB):              117.773\n",
      "Skew:                           0.825   Prob(JB):                     2.67e-26\n",
      "Kurtosis:                       5.535   Cond. No.                         46.6\n",
      "==============================================================================\n",
      "\n",
      "Notes:\n",
      "[1] Standard Errors assume that the covariance matrix of the errors is correctly specified.\n"
     ]
    }
   ],
   "source": [
    "import statsmodels.api as sm\n",
    "\n",
    "# create X matrix with intercept\n",
    "X = sm.add_constant(HR_data_set[[\"Intercept\",\"EngagementSurvey\",\"EmpSatisfaction\",\"DaysLateLast30\"]])\n",
    "\n",
    "# Add an intercept term\n",
    "X = sm.add_constant(X)\n",
    "\n",
    "# create y variable\n",
    "y = HR_data_set[\"PerformanceScoreID\"]\n",
    "\n",
    "# create OLS model\n",
    "ols_model = sm.OLS(y, X)\n",
    "\n",
    "# fit the model\n",
    "results = ols_model.fit()\n",
    "\n",
    "# print the summary\n",
    "print(results.summary())"
   ]
  },
  {
   "cell_type": "markdown",
   "id": "b1f873e4",
   "metadata": {},
   "source": [
    "<h3>Analysis of the Model (third stage)"
   ]
  },
  {
   "cell_type": "markdown",
   "id": "5a9235f4",
   "metadata": {},
   "source": [
    "* After the \"Salary\" variable was eliminated, the **F-statistic** went up from 105.2 to 138.7, demonstrating that each of the other variables in the model has a more significant overall relationship with the dependent variable. After adjusting for the other factors in the model, each of the remaining variables is statistically associated with the dependent variable, as shown by the fact that all of their **p-values** are significant (less than 0.05).\n",
    "\n",
    "\n",
    "* The **R-squared** value fell from 0.581 to 0.577 when the \"Salary\" variable was eliminated from the model, showing that the model explains somewhat less deviation in the dependent variable. fortunately, the **adjusted R-squared** value just slightly decreased from 0.575 to 0.573, indicating that the model still adequately fits the data and that the exclusion of the \"Salary\" variable did not substantially impact the model's overall fit.\n",
    "\n",
    "\n",
    "* Overall, it seems that eliminating the \"Salary\" variable from the model has left us with a more condensed model that still offers a reasonable fit to the data and fully accounts for the variability in the dependent variable."
   ]
  },
  {
   "cell_type": "markdown",
   "id": "713d7f21",
   "metadata": {},
   "source": [
    "## 7.4 Conclusion for the Regression Model:"
   ]
  },
  {
   "cell_type": "markdown",
   "id": "83cd50a5",
   "metadata": {},
   "source": [
    "* Based on the regression analysis, the factors EngagementSurvey, EmpSatisfaction, and DaysLateLast30 are all favorable indicators of PerformanceScoreID. The R-squared for the model without the variable Salary was 0.577, which means that it explains 57.7% of the variation in PerformanceScoreID. Accordingly, these factors can be used to predict how well an employee's performance scores.\n",
    "\n",
    "* Additionally, the coefficient estimates of the model show that an increase in EngagementSurvey and EmpSatisfaction by one unit equates to an increase in the performance score by 0.1214 and 0.0801 units, accordingly On the other hand, an increase in DaysLateLast30 by one unit results in a decrease in the performance score by 0.2761 units.\n",
    "\n",
    "* Overall, this approach may help HR managers and business executives determine the variables that impact employee performance and implement the necessary changes that increase engagement, satisfaction, and attendance levels. It's crucial to keep in mind, however, that the model may not account for all the variables that might have an impact on employee performance.\n",
    "**********\n"
   ]
  },
  {
   "cell_type": "markdown",
   "id": "f184ca3b",
   "metadata": {},
   "source": [
    "# 8.Classification Model."
   ]
  },
  {
   "cell_type": "markdown",
   "id": "f50ee8b7",
   "metadata": {},
   "source": [
    "## 8.1 Bayesian Classification\n",
    "    "
   ]
  },
  {
   "cell_type": "markdown",
   "id": "9a8edadd",
   "metadata": {},
   "source": [
    "The *Bayesian classification model* has been used in order to analyze trends and variables that may have an impact on the possibility of an employee leaving their position at the firm.\n",
    "\n",
    "The outcomes of engagement surveys, employee satisfaction, the number of days late to work in the recent 30 days, and absence are the predictors included in the model.\n",
    "\n",
    "Naive Bayesian classification is a statistical classification approach and supervised learning methodology. The Bayes theorem is a tool for decision-making that predicts future events using knowledge of past occurrences(Guleria and Sood,2022)."
   ]
  },
  {
   "cell_type": "code",
   "execution_count": 30,
   "id": "3e67f81d",
   "metadata": {},
   "outputs": [],
   "source": [
    "from sklearn.cluster import KMeans\n",
    "from yellowbrick.cluster import KElbowVisualizer\n",
    "import pandas as pd\n",
    "from sklearn.model_selection import train_test_split\n",
    "from sklearn.preprocessing import StandardScaler\n",
    "from sklearn.neighbors import KNeighborsClassifier\n",
    "from sklearn.metrics import accuracy_score"
   ]
  },
  {
   "cell_type": "code",
   "execution_count": 31,
   "id": "d223babc",
   "metadata": {},
   "outputs": [],
   "source": [
    "cluster_data=HR_data_set.copy()"
   ]
  },
  {
   "cell_type": "code",
   "execution_count": 32,
   "id": "d05b134e",
   "metadata": {},
   "outputs": [],
   "source": [
    "cluster_data.drop(columns=['Employee_Name', 'EmploymentStatus', 'DateofHire','TermReason', 'ManagerName', 'RecruitmentSource', 'SpecialProjectsCount', 'LastPerformanceReview_Date', 'SexID', 'MaritalID', 'EmploymentID', 'PositionID', 'Intercept'], inplace=True)"
   ]
  },
  {
   "cell_type": "code",
   "execution_count": 33,
   "id": "3d6894c4",
   "metadata": {},
   "outputs": [
    {
     "data": {
      "text/html": [
       "<div>\n",
       "<style scoped>\n",
       "    .dataframe tbody tr th:only-of-type {\n",
       "        vertical-align: middle;\n",
       "    }\n",
       "\n",
       "    .dataframe tbody tr th {\n",
       "        vertical-align: top;\n",
       "    }\n",
       "\n",
       "    .dataframe thead th {\n",
       "        text-align: right;\n",
       "    }\n",
       "</style>\n",
       "<table border=\"1\" class=\"dataframe\">\n",
       "  <thead>\n",
       "    <tr style=\"text-align: right;\">\n",
       "      <th></th>\n",
       "      <th>EmpID</th>\n",
       "      <th>Salary</th>\n",
       "      <th>EngagementSurvey</th>\n",
       "      <th>EmpSatisfaction</th>\n",
       "      <th>DaysLateLast30</th>\n",
       "      <th>Absences</th>\n",
       "      <th>Termination</th>\n",
       "      <th>DepartmentID</th>\n",
       "      <th>PerformanceScoreID</th>\n",
       "    </tr>\n",
       "  </thead>\n",
       "  <tbody>\n",
       "    <tr>\n",
       "      <th>2</th>\n",
       "      <td>10272</td>\n",
       "      <td>180000</td>\n",
       "      <td>4.50</td>\n",
       "      <td>4</td>\n",
       "      <td>0</td>\n",
       "      <td>19</td>\n",
       "      <td>0</td>\n",
       "      <td>5</td>\n",
       "      <td>3</td>\n",
       "    </tr>\n",
       "    <tr>\n",
       "      <th>3</th>\n",
       "      <td>10015</td>\n",
       "      <td>178000</td>\n",
       "      <td>5.00</td>\n",
       "      <td>5</td>\n",
       "      <td>0</td>\n",
       "      <td>15</td>\n",
       "      <td>0</td>\n",
       "      <td>3</td>\n",
       "      <td>4</td>\n",
       "    </tr>\n",
       "    <tr>\n",
       "      <th>4</th>\n",
       "      <td>10019</td>\n",
       "      <td>170500</td>\n",
       "      <td>3.70</td>\n",
       "      <td>5</td>\n",
       "      <td>0</td>\n",
       "      <td>15</td>\n",
       "      <td>0</td>\n",
       "      <td>6</td>\n",
       "      <td>4</td>\n",
       "    </tr>\n",
       "    <tr>\n",
       "      <th>5</th>\n",
       "      <td>10288</td>\n",
       "      <td>157000</td>\n",
       "      <td>2.39</td>\n",
       "      <td>3</td>\n",
       "      <td>4</td>\n",
       "      <td>13</td>\n",
       "      <td>0</td>\n",
       "      <td>3</td>\n",
       "      <td>2</td>\n",
       "    </tr>\n",
       "    <tr>\n",
       "      <th>6</th>\n",
       "      <td>10086</td>\n",
       "      <td>150290</td>\n",
       "      <td>4.94</td>\n",
       "      <td>3</td>\n",
       "      <td>0</td>\n",
       "      <td>17</td>\n",
       "      <td>0</td>\n",
       "      <td>3</td>\n",
       "      <td>3</td>\n",
       "    </tr>\n",
       "  </tbody>\n",
       "</table>\n",
       "</div>"
      ],
      "text/plain": [
       "   EmpID  Salary  EngagementSurvey  EmpSatisfaction  DaysLateLast30  Absences  \\\n",
       "2  10272  180000              4.50                4               0        19   \n",
       "3  10015  178000              5.00                5               0        15   \n",
       "4  10019  170500              3.70                5               0        15   \n",
       "5  10288  157000              2.39                3               4        13   \n",
       "6  10086  150290              4.94                3               0        17   \n",
       "\n",
       "   Termination  DepartmentID  PerformanceScoreID  \n",
       "2            0             5                   3  \n",
       "3            0             3                   4  \n",
       "4            0             6                   4  \n",
       "5            0             3                   2  \n",
       "6            0             3                   3  "
      ]
     },
     "execution_count": 33,
     "metadata": {},
     "output_type": "execute_result"
    }
   ],
   "source": [
    "cluster_data.head()"
   ]
  },
  {
   "cell_type": "markdown",
   "id": "56401f5d",
   "metadata": {},
   "source": [
    "### 8.1.1 Data Cleaning:"
   ]
  },
  {
   "cell_type": "code",
   "execution_count": 34,
   "id": "c3ac8766",
   "metadata": {},
   "outputs": [
    {
     "data": {
      "image/png": "[encoded data removed]",
      "text/plain": [
       "<Figure size 1500x1800 with 6 Axes>"
      ]
     },
     "metadata": {},
     "output_type": "display_data"
    }
   ],
   "source": [
    "# We have a plot with three rows and one column, and the size of each plot is 15 x 10\n",
    "f, axes = plt.subplots(6, 1, figsize=(15,18))\n",
    "\n",
    "# Three histograms with respective alignment which axis is chosen\n",
    "sns.histplot(cluster_data['Salary'], ax = axes[0])\n",
    "sns.histplot(cluster_data['Absences'], ax = axes[1])\n",
    "sns.histplot(cluster_data['EmpSatisfaction'], ax = axes[2])\n",
    "sns.histplot(cluster_data['EngagementSurvey'], ax = axes[3])\n",
    "sns.histplot(cluster_data['Termination'], ax = axes[4])\n",
    "sns.histplot(cluster_data['PerformanceScoreID'], ax = axes[5]);"
   ]
  },
  {
   "cell_type": "markdown",
   "id": "225bfb56",
   "metadata": {},
   "source": [
    "With the help of this code, a figure with six subplots—Salary, Absences, EmpSatisfaction, EngagementSurvey, Termination, and PerformanceScoreID— was produced. Each subplot includes a histogram of a different variable from the cluster_data data frame. \n",
    "\n",
    "\n",
    "Now we can understand the range and frequency of values for each variable and maybe detect any outliers or trends."
   ]
  },
  {
   "cell_type": "markdown",
   "id": "8f305121",
   "metadata": {},
   "source": [
    "### 8.1.2 Data Preprocessing:"
   ]
  },
  {
   "cell_type": "code",
   "execution_count": 35,
   "id": "b20ea0fa",
   "metadata": {},
   "outputs": [],
   "source": [
    "# First, we import the scaler package\n",
    "from sklearn.preprocessing import StandardScaler\n",
    "\n",
    "# We define that our scaler is the Standard Scaler, this is only to help us make the code cleaner\n",
    "scaler = StandardScaler()\n",
    "\n",
    "# We convert the data frame into an array with a reshaping of dimensions; transposing columns and rows\n",
    "std_scaler = np.array(cluster_data)\n",
    "\n",
    "# Now, we apply the scaler on the values\n",
    "scaler.fit(std_scaler)\n",
    "\n",
    "# At last, we store those values in a new variable\n",
    "cluster_data_scaled = scaler.transform(std_scaler)"
   ]
  },
  {
   "cell_type": "code",
   "execution_count": 36,
   "id": "5aa58077",
   "metadata": {},
   "outputs": [
    {
     "data": {
      "text/plain": [
       "(309, 9)"
      ]
     },
     "execution_count": 36,
     "metadata": {},
     "output_type": "execute_result"
    }
   ],
   "source": [
    "cluster_data_scaled .shape"
   ]
  },
  {
   "cell_type": "markdown",
   "id": "2abad759",
   "metadata": {},
   "source": [
    "We adjusted the variables to have a mean of zero and a standard deviation of one by scaling the data. Because all the variables have been placed on the same scale, it is easier to compare and analyze them. Plotting the histogram of the scaled data helps us to see how the variables are distributed following the scaling process."
   ]
  },
  {
   "cell_type": "code",
   "execution_count": 37,
   "id": "79a4aaa4",
   "metadata": {},
   "outputs": [
    {
     "data": {
      "image/png": "[encoded data removed]",
      "text/plain": [
       "<Figure size 800x550 with 1 Axes>"
      ]
     },
     "metadata": {},
     "output_type": "display_data"
    }
   ],
   "source": [
    "sns.histplot(cluster_data_scaled[20]);"
   ]
  },
  {
   "cell_type": "markdown",
   "id": "80e546bc",
   "metadata": {},
   "source": [
    "### 8.1.3 Bayesian Prediction:"
   ]
  },
  {
   "cell_type": "markdown",
   "id": "e3a898ee",
   "metadata": {},
   "source": [
    "In this part, we estimate if an employee will **quit** the organization using a machine learning model called Multinomial Naive Bayes that takes into account variables including their **engagement survey score, employee satisfaction, number of days late, and absenteeism.**\n",
    "\n",
    "\n",
    "Using a 70/30 split, we divided the data into training and testing sets to assess the model's accuracy. After training the model, it was used to predict whether employees in the testing set would leave the company..\n",
    "\n",
    " With the 'predict' method, we predicted the target variable(Termination), and then investigated the power of model prediction with confusion matrix."
   ]
  },
  {
   "cell_type": "code",
   "execution_count": 38,
   "id": "df4965a5",
   "metadata": {},
   "outputs": [
    {
     "name": "stdout",
     "output_type": "stream",
     "text": [
      "Accuracy: 0.6129032258064516\n"
     ]
    }
   ],
   "source": [
    "import warnings\n",
    "warnings.filterwarnings(\"ignore\", category=FutureWarning)\n",
    "\n",
    "# Select the predictor variables and target variable\n",
    "predictors = ['EngagementSurvey', 'EmpSatisfaction', 'DaysLateLast30', 'Absences']\n",
    "target = 'Termination'\n",
    "\n",
    "# Split the data into training and test sets\n",
    "X_train, X_test, y_train, y_test = train_test_split(cluster_data[predictors], cluster_data[target], test_size=0.3, random_state=42)\n",
    "\n",
    "# Preprocess the data by scaling the predictor variables\n",
    "scaler = StandardScaler()\n",
    "X_train = scaler.fit_transform(X_train)\n",
    "X_test = scaler.transform(X_test)\n",
    "\n",
    "# Train the KNN model\n",
    "knn = KNeighborsClassifier(n_neighbors=5, algorithm='auto', metric='minkowski', p=2)\n",
    "knn.fit(X_train, y_train)\n",
    "\n",
    "# Make predictions on the test set\n",
    "y_pred = knn.predict(X_test)\n",
    "\n",
    "# Evaluate the performance of the model\n",
    "accuracy = accuracy_score(y_test, y_pred)\n",
    "print('Accuracy:', accuracy)"
   ]
  },
  {
   "cell_type": "markdown",
   "id": "68db7bb4",
   "metadata": {},
   "source": [
    "### 8.1.4 Interpretation of Bayesian prediction results:"
   ]
  },
  {
   "cell_type": "markdown",
   "id": "98d1be27",
   "metadata": {},
   "source": [
    "* With an accuracy of 0.61, the KNN model successfully predicted the **termination** status of almost **61%** of the test set's employees.\n",
    "\n",
    "\n",
    "* By comparing the expected outcomes with the actual results in the testing set, the model's accuracy was determined. A score of 0.61 was achieved, **indicating that 61% of the time the model accurately predicted probability of the  leaving the organization with an employee.**"
   ]
  },
  {
   "cell_type": "markdown",
   "id": "692e4066",
   "metadata": {},
   "source": [
    "## 8.2 Confusion Matrix"
   ]
  },
  {
   "cell_type": "code",
   "execution_count": 39,
   "id": "c99a89e3",
   "metadata": {},
   "outputs": [
    {
     "name": "stdout",
     "output_type": "stream",
     "text": [
      "Accuracy: 0.6129032258064516\n",
      "[[52  7]\n",
      " [29  5]]\n"
     ]
    }
   ],
   "source": [
    "# Import necessary libraries\n",
    "import pandas as pd\n",
    "from sklearn.model_selection import train_test_split\n",
    "from sklearn.naive_bayes import MultinomialNB\n",
    "from sklearn.metrics import accuracy_score, confusion_matrix\n",
    "\n",
    "# Select the predictor variables and target variable\n",
    "predictors = ['EngagementSurvey', 'EmpSatisfaction', 'DaysLateLast30', 'Absences']\n",
    "target = 'Termination'\n",
    "\n",
    "# Split the data into training and test sets\n",
    "X_train, X_test, y_train, y_test = train_test_split(cluster_data[predictors], cluster_data[target], test_size=0.3, random_state=42)\n",
    "\n",
    "\n",
    "# Train the Multinomial Naive Bayes model\n",
    "mnb = MultinomialNB()\n",
    "mnb.fit(X_train, y_train)\n",
    "\n",
    "# Make predictions on the test set\n",
    "y_pred = mnb.predict(X_test)\n",
    "\n",
    "# Evaluate the performance of the model\n",
    "accuracy = accuracy_score(y_test, y_pred)\n",
    "print('Accuracy:', accuracy)\n",
    "print(confusion_matrix(y_test, y_pred))"
   ]
  },
  {
   "cell_type": "markdown",
   "id": "a32c5582",
   "metadata": {},
   "source": [
    "### 8.2.1 Interpretation of Confusion Matrix Results:"
   ]
  },
  {
   "cell_type": "markdown",
   "id": "d20de181",
   "metadata": {},
   "source": [
    "* **The confusion matrix** is a table that displays how accurately the model predicted whether or not an employee would be terminated. True negatives, false negatives, false positives, and true positives are the four numbers in the table.\n",
    "\n",
    "\n",
    "* **True negatives (52 employees )** are workers who were successfully shown not to be fired. \n",
    "* **False negatives (7 employees)**  are the number of workers that were fired but were predicted not to be fired by the model. \n",
    "* **False positives (29 employees)** are the number of workers who had been predicted to be terminated by the model but were not. \n",
    "* **True positives (5 employees)** are the number of workers who were accurately predicted by the model to be terminated.\n",
    "\n",
    "\n",
    "* In other words, the model accurately identified 5 of the 34 workers who were really terminated as terminated. However, it incorrectly identified 29 workers as terminated who were not actually terminated. The model, on the other hand, accurately recognized 52 of 59 workers who were not terminated as such. \n",
    "\n",
    "**Overall, the model had trouble identifying employees who were truly fired.**\n",
    "*********\n"
   ]
  },
  {
   "cell_type": "markdown",
   "id": "f61d5354",
   "metadata": {},
   "source": [
    "# 9. Comparison Algorithm:<h4>Performance of Various Models on Predicting Termination"
   ]
  },
  {
   "cell_type": "markdown",
   "id": "3faa91eb",
   "metadata": {},
   "source": [
    "As previously noted, the Multinomial Naive Bayes model has considerable trouble predicting employee termination, particularly those who were really terminated. \n",
    "\n",
    "To enhance the model's performance, we may compare with alternative models or algorithms to see whether they are able to predict employee termination more accurately. The code we gave allows us to evaluate the performance of several models using **cross-validation,** which is a method for evaluating a model's accuracy. \n",
    "\n",
    "**K-Nearest Neighbors (KNN), Decision Tree, Random Forest, and Logistic Regression** are the models we're comparing. We can evaluate whether a model is better at predicting employee termination by comparing their accuracy ratings using cross-validation.\n"
   ]
  },
  {
   "cell_type": "code",
   "execution_count": 40,
   "id": "cad88cc7",
   "metadata": {},
   "outputs": [
    {
     "name": "stdout",
     "output_type": "stream",
     "text": [
      "KNN: mean=0.625, std=0.045\n",
      "Decision Tree: mean=0.615, std=0.100\n",
      "Random Forest: mean=0.588, std=0.046\n",
      "Logistic Regression: mean=0.676, std=0.040\n"
     ]
    },
    {
     "data": {
      "image/png": "[encoded data removed]",
      "text/plain": [
       "<Figure size 800x550 with 1 Axes>"
      ]
     },
     "metadata": {},
     "output_type": "display_data"
    }
   ],
   "source": [
    "import numpy as np\n",
    "from sklearn.model_selection import cross_val_score\n",
    "from sklearn.tree import DecisionTreeClassifier\n",
    "from sklearn.ensemble import RandomForestClassifier\n",
    "from sklearn.linear_model import LogisticRegression\n",
    "\n",
    "# Define the models to compare\n",
    "models = [\n",
    "    ('KNN', knn),\n",
    "    ('Decision Tree', DecisionTreeClassifier()),\n",
    "    ('Random Forest', RandomForestClassifier()),\n",
    "    ('Logistic Regression', LogisticRegression())\n",
    "]\n",
    "\n",
    "# Evaluate each model using cross-validation\n",
    "results = []\n",
    "names = []\n",
    "for name, model in models:\n",
    "    scores = cross_val_score(model, X_train, y_train, cv=10, scoring='accuracy')\n",
    "    results.append(scores)\n",
    "    names.append(name)\n",
    "    print(f'{name}: mean={np.mean(scores):.3f}, std={np.std(scores):.3f}')\n",
    "\n",
    "# Compare the models using boxplots of the cross-validation results\n",
    "import matplotlib.pyplot as plt\n",
    "fig = plt.figure()\n",
    "fig.suptitle('Algorithm Comparison')\n",
    "ax = fig.add_subplot(111)\n",
    "plt.boxplot(results)\n",
    "ax.set_xticklabels(names)\n",
    "plt.show()\n"
   ]
  },
  {
   "cell_type": "markdown",
   "id": "f089c8b5",
   "metadata": {},
   "source": [
    "## 9.1 Conclusion for Classification Model:"
   ]
  },
  {
   "cell_type": "markdown",
   "id": "11e22df7",
   "metadata": {},
   "source": [
    "K-Nearest Neighbors (KNN), Decision Tree, Random Forest, and Logistic Regression are the models that were examined. The **average performance** of models across all dataset folds is shown by the **mean accuracy**. The accuracy scores' standard deviation shows how far they differed between each fold.\n",
    "\n",
    "The model is trained and tested ten times **(cv=10)** using various combinations of the 10 equal portions of the data. The average accuracy score across all 10 iterations is then calculated in order to assess the model's performance. With this method, the model's performance is less likely to be biased towards a specific subset of the data, and its ability to generalize performance is more accurately estimated.\n",
    "\n",
    "\n",
    "Based on these outcomes, \n",
    "* **Logistic Regression** model performed consistently effectively across all folds, with the highest mean accuracy of 0.676 and the lowest standard deviation of 0.040. \n",
    "* **KNN** also exhibited respectable accuracy, with a mean of 0.625 and a standard deviation of 0.045. \n",
    "* **Decision Tree** had the biggest standard deviation of 0.119, showing that its performance varied more between the various folds of the dataset.\n",
    "* **Random Forest** had lower mean accuracies of 0.597.\n",
    "\n",
    "\n",
    "Overall, the **Logistic Regression model** had the lowest standard deviation and greatest mean accuracy score. As a result, we can say that with this particular dataset, the Logistic Regression model operates most effectively in predicting employee termination.\n",
    "*********"
   ]
  },
  {
   "cell_type": "markdown",
   "id": "0fe5d185",
   "metadata": {},
   "source": [
    "# 10.Conclusion"
   ]
  },
  {
   "cell_type": "markdown",
   "id": "0658636c",
   "metadata": {},
   "source": [
    "Finally, our project has demonstrated the value of predictive analytics for assessing employee performance ratings and identifying factors that influence an employee's likelihood of termination. These insights may be significantly beneficial to managers in making data-driven decisions that improve employee retention, decrease recruitment expenses, and subsequently boost organizational performance. \n",
    "\n",
    "Managers may identify significant areas for enhancement of employee performance and take early actions to mitigate potential termination risks by utilizing our regression and classification models. Overall, our initiative demonstrates the worth of data analytics in improving human resource decision-making and promoting organizational success.\n",
    "*********"
   ]
  },
  {
   "cell_type": "markdown",
   "id": "c5481208",
   "metadata": {},
   "source": [
    "# 11.Reference"
   ]
  },
  {
   "cell_type": "markdown",
   "id": "5567e945",
   "metadata": {},
   "source": [
    "1- Catherine, C. (2021) *4 Types of Data Analytics to Improve Decision-Making, Business Insights Blog.* Available at: https://online.hbs.edu/blog/post/types-of-data-analysis (Accessed: 4 May 2023).\n",
    "\n",
    "2- Guleria, P. and Sood, M., 2022. *Artificial intelligence and machine learning for the healthcare sector: performing predictions and metrics evaluation of ML classifiers on a diabetic diseases data set. In Cognitive and Soft Computing Techniques for the Analysis of Healthcare Data* (pp. 1-28). Academic Press.\n",
    "\n",
    "3- Patalano, C. and Huebner, R. (2023) *Human Resources Data Set, www.kaggle.com.* Available at: https://www.kaggle.com/datasets/rhuebner/human-resources-data-set (Accessed: 1 May 2023).\n",
    "\n",
    "4- McAleer, T. (2020) *‘Interpreting Linear Regression Through statsmodels .summary()’, The Startup, 14 December.* Available at: https://medium.com/swlh/interpreting-linear-regression-through-statsmodels-summary-4796d359035a (Accessed: 1 May 2023).\n",
    "\n"
   ]
  },
  {
   "cell_type": "code",
   "execution_count": null,
   "id": "ac0a911d",
   "metadata": {},
   "outputs": [],
   "source": []
  }
 ],
 "metadata": {
  "kernelspec": {
   "display_name": "Python 3 (ipykernel)",
   "language": "python",
   "name": "python3"
  },
  "language_info": {
   "codemirror_mode": {
    "name": "ipython",
    "version": 3
   },
   "file_extension": ".py",
   "mimetype": "text/x-python",
   "name": "python",
   "nbconvert_exporter": "python",
   "pygments_lexer": "ipython3",
   "version": "3.9.13"
  }
 },
 "nbformat": 4,
 "nbformat_minor": 5
}
